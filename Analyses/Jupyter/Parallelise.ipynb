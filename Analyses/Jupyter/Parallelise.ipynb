{
 "cells": [
  {
   "cell_type": "code",
   "execution_count": 1,
   "id": "54b8716c-5346-4efa-be76-86ddd831de24",
   "metadata": {},
   "outputs": [
    {
     "data": {
      "text/plain": [
       "'\\nRun MeasureModuleEfficiency.py in parallel using concurrent.futures\\n\\nBe really careful with this. \\n'"
      ]
     },
     "execution_count": 1,
     "metadata": {},
     "output_type": "execute_result"
    }
   ],
   "source": [
    "\"\"\"\n",
    "Run MeasureModuleEfficiency.py in parallel using concurrent.futures\n",
    "\n",
    "Be really careful with this. \n",
    "\"\"\""
   ]
  },
  {
   "cell_type": "code",
   "execution_count": 2,
   "id": "20e82985-32f1-4afd-9673-517922e0ed46",
   "metadata": {},
   "outputs": [],
   "source": [
    "# import sys\n",
    "# from datetime import datetime\n",
    "import pandas as pd\n",
    "from concurrent.futures import ProcessPoolExecutor, as_completed\n",
    "from mu2etools import read_data as rd \n",
    "import numpy as np\n",
    "import subprocess"
   ]
  },
  {
   "cell_type": "code",
   "execution_count": 3,
   "id": "1b6e0827-8274-49f4-aa15-a608c7853ab5",
   "metadata": {},
   "outputs": [],
   "source": [
    "# # Generate a timestamped log filename\n",
    "# timestamp = datetime.now().strftime('%Y%m%d_%H%M%S')\n",
    "# logName = f\"../Logs/output_{timestamp}.log\"\n",
    "# # Original standard output state\n",
    "# print(\"Log file is\", logName)"
   ]
  },
  {
   "cell_type": "code",
   "execution_count": 4,
   "id": "8fbab41f-eefe-4a48-aa3d-4387eb9b7baa",
   "metadata": {},
   "outputs": [],
   "source": [
    "# 8 cores is safe, 16 cores works, 24 starts causing exceptions \n",
    "def Multiprocess(processFunction, fileList_, recon, particles_, PEs_, layers_, triggerModes_, quiet, resub, max_workers=16):\n",
    "    print(\"\\n---> Starting multiprocessing...\\n\")\n",
    "    \n",
    "    completedFiles = 0\n",
    "    totalFiles = len(fileList_)\n",
    "    \n",
    "    with ProcessPoolExecutor(max_workers=max_workers) as executor:\n",
    "        # Prepare a list of futures and map them to file names\n",
    "        futures_ = {}\n",
    "\n",
    "        if not resub: \n",
    "            futures_ = {executor.submit(processFunction, fileName, recon, particles_, PEs_, layers_, triggerModes_, quiet, resub): fileName for fileName in fileList_}\n",
    "        else:\n",
    "            failedJobsFile = \"../Txt/MDC2020ae/FailedJobs/failures.csv\"\n",
    "            failedJobs_ = pd.read_csv(failedJobsFile) #[:5]\n",
    "            failedFileList = [] \n",
    "            for fileName in fileList_:\n",
    "                finTag = fileName.split('.')[-2] \n",
    "                if finTag not in list(failedJobs_[\"Tag\"]):\n",
    "                    continue\n",
    "                else:\n",
    "                    thisFailedJob = failedJobs_[failedJobs_[\"Tag\"] == finTag]\n",
    "                    PEs_ = list(thisFailedJob[\"PEs\"]) \n",
    "                    particles_ = list(thisFailedJob[\"Particle\"])  \n",
    "                    layers_ = list(thisFailedJob[\"Layer\"])  \n",
    "                    triggerModes_ = list(thisFailedJob[\"Trigger\"]) \n",
    "                    \n",
    "                future = executor.submit(processFunction, fileName, recon, particles_, PEs_, layers_, triggerModes_, quiet, resub)\n",
    "                futures_[future] = fileName    \n",
    "                \n",
    "        # Process results as they complete\n",
    "        for future in as_completed(futures_):\n",
    "            fileName = futures_[future]  # Get the file name associated with this future\n",
    "            try:\n",
    "                future.result()  # Retrieve the result\n",
    "                completedFiles += 1\n",
    "                percentComplete = (completedFiles / totalFiles) * 100\n",
    "                print(f'\\n---> {fileName} processed successfully! ({percentComplete:.1f}% complete)')\n",
    "            except Exception as exc:\n",
    "                print(f'\\n---> {fileName} encountered an exception: {exc}')\n",
    "\n",
    "    print(\"\\n---> Multiprocessing completed!\")\n",
    "    return"
   ]
  },
  {
   "cell_type": "code",
   "execution_count": 5,
   "id": "1342120a-2ee0-4d34-8eb2-f77c01543a22",
   "metadata": {},
   "outputs": [],
   "source": [
    "def processFunction(fileName, recon, particles_, PEs_, layers_, triggerModes_, quiet, resub):\n",
    "    try:\n",
    "        # Convert list arguments to string representations for passing via the command line\n",
    "        particles_str = ','.join(particles_)\n",
    "        PEs_str = ','.join(map(str, PEs_))\n",
    "        layers_str = ','.join(map(str, layers_))\n",
    "        triggerModes_str = ','.join(triggerModes_)\n",
    "\n",
    "        # Path to the Python executable in your Conda environment\n",
    "        python_executable = \"/home/sgrant/.conda/envs/mu2e_env/bin/python\" \n",
    "        \n",
    "        # Call the script MeasureModuleEfficiency.py using subprocess\n",
    "        subprocess.run(\n",
    "            [\n",
    "                python_executable, '/home/sgrant/CRVSim/Analyses/PyMacros/MeasureModuleEfficiency.py',\n",
    "                fileName, recon, particles_str, PEs_str, layers_str, triggerModes_str, str(quiet), str(resub)\n",
    "            ],\n",
    "            check=True\n",
    "        )\n",
    "    except subprocess.CalledProcessError as exc:\n",
    "        print(f'---> Exception!\\n{exc}')\n",
    "    return"
   ]
  },
  {
   "cell_type": "code",
   "execution_count": 6,
   "id": "59dd30c4-b60f-42b3-90d4-6fd586b426e7",
   "metadata": {},
   "outputs": [],
   "source": [
    "#########################################################\n",
    "defname = \"nts.sgrant.CosmicCRYExtractedCatTriggered.MDC2020ae_best_v1_3.root\"\n",
    "recon = \"MDC2020ae\"\n",
    "particles_ = [\"all\", \"muons\", \"non_muons\"]\n",
    "layers_ = [2, 3] \n",
    "PEs_ = np.arange(10, 135, 5)\n",
    "triggerModes_ = [\"crv_2layers_trigger\", \"crv_3layers_trigger\", \"trk_crv_2layers_trigger\", \"trk_crv_3layers_trigger\"] # [\"crv_trigger\", \"trk_trigger\", \"trk_crv_trigger\", \"trk_crv2_trigger\", \"trk_crv3_trigger\", \"trk_crv2_2layers_trigger\", \"trk_crv2_3layers_trigger\"]\n",
    "quiet = True\n",
    "resub = False"
   ]
  },
  {
   "cell_type": "code",
   "execution_count": 7,
   "id": "23573cc1-ad1c-48ad-859d-4a8fd3eb3f7c",
   "metadata": {},
   "outputs": [],
   "source": [
    "#########################################################\n",
    "# Testing\n",
    "# defname = \"nts.sgrant.CosmicCRYExtractedCatTriggered.MDC2020ae_best_v1_3.root\"\n",
    "# recon = \"MDC2020ae\"\n",
    "# particles_ = [\"all\"] #, \"muons\", \"non_muons\"]\n",
    "# layers_ = [3] # , 3] \n",
    "# PEs_ = [10] #np.arange(10, 135, 5)\n",
    "# triggerModes_ = [\"trk_crv2_3layers_trigger\"] \n",
    "# quiet = False"
   ]
  },
  {
   "cell_type": "code",
   "execution_count": 8,
   "id": "018a9ec3-0aa5-4ef2-8e41-15e09a1b1eae",
   "metadata": {},
   "outputs": [],
   "source": [
    "# fileList_ = rd.get_file_list(defname) #[:2]\n",
    "# print(f\"---> Got {len(fileList_)} files.\")\n",
    "# vomsCert not working \n",
    "# Use \n",
    "# ../Txt/FileLists/MDC2020aeOnExpData.txt\n",
    "\n",
    "fileList_ = [] \n",
    "# Open the file and read line by line\n",
    "with open(\"../Txt/FileLists/MDC2020aeOnExpData.txt\", 'r') as file:\n",
    "    fileList_= file.readlines()\n",
    "# remove newline characters from each line\n",
    "fileList_ = [line.strip() for line in fileList_]\n",
    "# print(fileList_)"
   ]
  },
  {
   "cell_type": "code",
   "execution_count": 9,
   "id": "5ebf7a37-270f-49fe-8233-9e2ccec37578",
   "metadata": {},
   "outputs": [
    {
     "name": "stdout",
     "output_type": "stream",
     "text": [
      "96 files\n",
      "600 configurations / file\n",
      "57600 tasks\n",
      "---> Run time ~ 8.33 hours\n"
     ]
    }
   ],
   "source": [
    "import itertools \n",
    "combinations = list(itertools.product(particles_, layers_, PEs_, triggerModes_))\n",
    "print(f\"{len(fileList_)} files\")\n",
    "print(f\"{len(combinations)} configurations / file\")\n",
    "print(f\"{len(combinations)*len(fileList_)} tasks\")\n",
    "print(f\"---> Run time ~ {len(combinations)*50/3600:.2f} hours\")"
   ]
  },
  {
   "cell_type": "code",
   "execution_count": 10,
   "id": "8ff9e85c-04f4-466d-b5fb-f673d61effdd",
   "metadata": {},
   "outputs": [],
   "source": [
    "import sys\n",
    "from datetime import datetime"
   ]
  },
  {
   "cell_type": "code",
   "execution_count": 11,
   "id": "b6fb6b45-ab9e-4a1a-8612-ddbc6d2d781e",
   "metadata": {},
   "outputs": [
    {
     "name": "stdout",
     "output_type": "stream",
     "text": [
      "Log file is ../Logs/output_20240918_201628.log\n"
     ]
    }
   ],
   "source": [
    "# Generate a timestamped log filename\n",
    "timestamp = datetime.now().strftime('%Y%m%d_%H%M%S')\n",
    "logName = f\"../Logs/output_{timestamp}.log\"\n",
    "# Original standard output state\n",
    "print(\"Log file is\", logName)"
   ]
  },
  {
   "cell_type": "code",
   "execution_count": null,
   "id": "40fc6c04-f344-474c-ab00-3274404bf1f9",
   "metadata": {},
   "outputs": [],
   "source": [
    "original_stdout = sys.stdout\n",
    "\n",
    "# Open the log file\n",
    "with open(logName, \"w\") as log:\n",
    "    # Redirect stdout to the file\n",
    "    sys.stdout = log\n",
    "    try:\n",
    "        # Run the jobs\n",
    "        # print(\"test\")\n",
    "        Multiprocess(processFunction\n",
    "                     , fileList_=fileList_\n",
    "                     , recon=recon\n",
    "                     , particles_=particles_\n",
    "                     , PEs_=PEs_\n",
    "                     , layers_=layers_\n",
    "                     , triggerModes_=triggerModes_\n",
    "                     , quiet=quiet\n",
    "                     , resub=resub)\n",
    "    finally:\n",
    "        # Reset stdout to its original state\n",
    "        sys.stdout = original_stdout"
   ]
  },
  {
   "cell_type": "code",
   "execution_count": null,
   "id": "ba34d826-3294-4863-ab12-1c4e924d6050",
   "metadata": {},
   "outputs": [],
   "source": []
  }
 ],
 "metadata": {
  "kernelspec": {
   "display_name": "mu2e_env",
   "language": "python",
   "name": "mu2e_env"
  },
  "language_info": {
   "codemirror_mode": {
    "name": "ipython",
    "version": 3
   },
   "file_extension": ".py",
   "mimetype": "text/x-python",
   "name": "python",
   "nbconvert_exporter": "python",
   "pygments_lexer": "ipython3",
   "version": "3.12.5"
  }
 },
 "nbformat": 4,
 "nbformat_minor": 5
}
