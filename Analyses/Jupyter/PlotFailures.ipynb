{
 "cells": [
  {
   "cell_type": "code",
   "execution_count": 1,
   "id": "f3d96d7c-77e4-4296-862a-922f01a53dae",
   "metadata": {},
   "outputs": [],
   "source": [
    "# Samuel Grant 2024\n",
    "\n",
    "## Read failure events and make plots. \n",
    "\n",
    "### Based on PlotFailures.py. Better suited to notebook (so we don't have to load the data each time). "
   ]
  },
  {
   "cell_type": "code",
   "execution_count": 12,
   "id": "b7453752-529d-451e-94ea-22db42c4716e",
   "metadata": {},
   "outputs": [],
   "source": [
    "# External libraries\n",
    "import numpy as np\n",
    "import pandas as pd\n",
    "import awkward as ak\n",
    "import uproot\n",
    "\n",
    "# Internal\n",
    "sys.path.append(os.path.abspath(\"../PyMacros\"))\n",
    "%run PlotFitUtils.ipynb\n",
    "import Utils as ut\n",
    "import PrintUtils as pr"
   ]
  },
  {
   "cell_type": "code",
   "execution_count": null,
   "id": "434591ad-0954-4bc3-a74e-609a692640d9",
   "metadata": {},
   "outputs": [],
   "source": [
    "from statsmodels.stats.proportion import proportion_confint\n",
    "def WilsonUncertainty(data_, conservative=True):\n",
    "    # What happens if the number of failures gets close to zero?\n",
    "    k = np.sum(data_[\"Failures\"])\n",
    "    N = np.sum(data_[\"Total\"])\n",
    "    lower, upper = proportion_confint(k, N, method=\"wilson\")\n",
    "    point = k/N\n",
    "    if conservative: \n",
    "        return abs((upper - point) / 2)\n",
    "    else:\n",
    "        return abs((lower - point) / 2)"
   ]
  },
  {
   "cell_type": "code",
   "execution_count": 2,
   "id": "95ec887c-9668-4cec-8c62-26a12f3b99eb",
   "metadata": {},
   "outputs": [],
   "source": [
    "# Parameters\n",
    "PEs=10\n",
    "layers=\"3\"\n",
    "particle=\"all\""
   ]
  },
  {
   "cell_type": "code",
   "execution_count": 4,
   "id": "9d20d27b-7e2f-498e-8234-dd9e065e9013",
   "metadata": {},
   "outputs": [
    {
     "name": "stdout",
     "output_type": "stream",
     "text": [
      "\n",
      "---> Using info file ../Txt/MDC2020ae/concatenated/failures_concise/failures_concise_all_10PEs3Layers_track_crv12.csv.\n",
      "                tag  evtinfo.run  evtinfo.subrun  evtinfo.event\n",
      "0   001205_00000000         1205             391          32643\n",
      "1   001205_00000005         1205            7141         345461\n",
      "2   001205_00000012         1205            3673         465183\n",
      "3   001205_00000014         1205            8798         192934\n",
      "4   001205_00000017         1205            8587         493647\n",
      "5   001205_00000019         1205            3617         250172\n",
      "6   001205_00000025         1205            7223          28766\n",
      "7   001205_00000035         1205              35         288996\n",
      "8   001205_00000037         1205            5538         112688\n",
      "9   001205_00000050         1205            3258         300543\n",
      "10  001205_00000062         1205            5440         164658\n",
      "11  001205_00000069         1205            8751         496244\n",
      "12  001205_00000072         1205            4131         326313\n",
      "13  001205_00000073         1205            5947         248662\n",
      "14  001205_00000080         1205            1357         199468\n",
      "15  001205_00000098         1205            2818          59079\n",
      "16  001205_00000171         1205            8260         180878\n",
      "17  001205_00000228         1205             847         348424\n",
      "18  001205_00000321         1205            8016         240452\n",
      "19  001205_00000544         1205            2686         110315\n",
      "20  001205_00000554         1205            6336          52143\n",
      "21  001205_00000554         1205            8095          29368\n",
      "\n",
      "\n",
      "---> Using info file ../Txt/MDC2020ae/concatenated/results/results_all_10PEs3Layers_track_crv12.csv.\n",
      "                Tag  Total  Successes  Failures  Inefficiency [%]\n",
      "0   001205_00000000   1623       1622         1          0.061614\n",
      "1   001205_00000001   1472       1472         0          0.000000\n",
      "2   001205_00000002   1597       1597         0          0.000000\n",
      "3   001205_00000005   1602       1601         1          0.062422\n",
      "4   001205_00000006   1635       1635         0          0.000000\n",
      "..              ...    ...        ...       ...               ...\n",
      "91  001205_00000231   1587       1587         0          0.000000\n",
      "92  001205_00000243   1567       1567         0          0.000000\n",
      "93  001205_00000321   1578       1577         1          0.063371\n",
      "94  001205_00000544   1598       1597         1          0.062578\n",
      "95  001205_00000554   1616       1614         2          0.123762\n",
      "\n",
      "[96 rows x 5 columns]\n",
      "\n",
      "---> Using info file ../Txt/MDC2020ae/concatenated/results/results_all_10PEs3Layers_track_crv12.csv.\n",
      "                Tag  Total  Successes  Failures  Inefficiency [%]\n",
      "0   001205_00000000   1623       1622         1          0.061614\n",
      "1   001205_00000001   1472       1472         0          0.000000\n",
      "2   001205_00000002   1597       1597         0          0.000000\n",
      "3   001205_00000005   1602       1601         1          0.062422\n",
      "4   001205_00000006   1635       1635         0          0.000000\n",
      "..              ...    ...        ...       ...               ...\n",
      "91  001205_00000231   1587       1587         0          0.000000\n",
      "92  001205_00000243   1567       1567         0          0.000000\n",
      "93  001205_00000321   1578       1577         1          0.063371\n",
      "94  001205_00000544   1598       1597         1          0.062578\n",
      "95  001205_00000554   1616       1614         2          0.123762\n",
      "\n",
      "[96 rows x 5 columns]\n",
      "\n",
      "**********************************\n",
      "PEs: 10\n",
      "layers: 3/4\n",
      "particle: all\n",
      "\n",
      "\n",
      "Total inefficiency...\n",
      "No track cuts: 22/150542 = 0.01461%\n",
      "Track cuts: 22/150542 = 0.01461%\n",
      "**********************************\n",
      "\n"
     ]
    }
   ],
   "source": [
    "# Persistent failure info; useful to know. |\n",
    "inDir=\"../Txt/MDC2020ae/concatenated\"\n",
    "cut=\"track_crv12\"\n",
    "failureFilePathTrackCuts = f\"{inDir}/failures_concise/failures_concise_all_{PEs}PEs{layers}Layers_track_cuts.csv\"\n",
    "print(f\"\\n---> Using info file {failureFilePathTrackCuts}.\")\n",
    "failureInfoTrackCuts_ = pd.read_csv(failureFilePathTrackCuts)\n",
    "print(failureInfoTrackCuts_)\n",
    "print()\n",
    "\n",
    "# Results info; useful to know. \n",
    "resultsFilePathNoTrackCuts = f\"{inDir}/results/results_all_{PEs}PEs{layers}Layers_no_track_cuts.csv\"\n",
    "print(f\"\\n---> Using info file {resultsFilePathNoTrackCuts}.\")\n",
    "resultsNoTrackCuts_ = pd.read_csv(resultsFilePathNoTrackCuts)\n",
    "print(resultsNoTrackCuts_)\n",
    "\n",
    "resultsFilePathTrackCuts = f\"{inDir}/results/results_all_{PEs}PEs{layers}Layers_track_cuts.csv\"\n",
    "print(f\"\\n---> Using info file {resultsFilePathTrackCuts}.\")\n",
    "resultsTrackCuts_ = pd.read_csv(resultsFilePathTrackCuts)\n",
    "print(resultsTrackCuts_)\n",
    "\n",
    "ineffNoTrackCuts = np.sum(resultsNoTrackCuts_[\"Failures\"])/np.sum(resultsNoTrackCuts_[\"Total\"])\n",
    "ineffTrackCuts = np.sum(resultsTrackCuts_[\"Failures\"])/np.sum(resultsTrackCuts_[\"Total\"])\n",
    "\n",
    "# Start output string \n",
    "resultStr = f\"\"\"\n",
    "**********************************\n",
    "PEs: {PEs}\n",
    "layers: {layers}/4\n",
    "particle: {particle}\n",
    "\n",
    "\n",
    "Total inefficiency...\n",
    "No track cuts: {np.sum(resultsNoTrackCuts_[\"Failures\"])}/{np.sum(resultsNoTrackCuts_[\"Total\"])} = {ineffNoTrackCuts*100:.5f}%\n",
    "Track cuts: {np.sum(resultsTrackCuts_[\"Failures\"])}/{np.sum(resultsTrackCuts_[\"Total\"])} = {ineffTrackCuts*100:.5f}%\n",
    "**********************************\n",
    "\"\"\"\n",
    "\n",
    "print(resultStr)"
   ]
  },
  {
   "cell_type": "code",
   "execution_count": 5,
   "id": "bb43d4aa-f0e7-4507-8a84-c7cca352bc86",
   "metadata": {},
   "outputs": [
    {
     "name": "stdout",
     "output_type": "stream",
     "text": [
      "<ReadOnlyDirectory '/' at 0x7fa4ac500610>\n",
      "[{evt: {'evtinfo.run': 1205, ...}, crv: {...}, trk: {...}, ...}, ..., {...}]\n",
      "[331, 379, 759, 891, 1432, 2430, ..., 498161, 499019, 499859, 499895, 499971]\n"
     ]
    }
   ],
   "source": [
    "# Inspect a failure (also in TrackCuts)\n",
    "# tag=\"001205_00000020\"\n",
    "run=1205\n",
    "subrun=299 # 2263\n",
    "event=79434 # 473431\n",
    "filename=\"/exp/mu2e/data/users/sgrant/CRVSim/CosmicCRYExtractedCatTriggered.MDC2020ae_best_v1_3.000/11946817/00/00023/nts.sgrant.CosmicCRYExtractedCatTriggered.MDC2020ae_best_v1_3.001205_00000000.root\" #/exp/mu2e/data/users/sgrant/CRVSim/CosmicCRYExtractedCatTriggered.MDC2020ae_best_v1_3.000/11946817/00/00069/nts.sgrant.CosmicCRYExtractedCatTriggered.MDC2020ae_best_v1_3.001205_00000020.root\"\n",
    "with uproot.open(filename) as file:\n",
    "    print(file)\n",
    "    array_ = ut.GetData(file)\n",
    "    print(array_)\n",
    "    print(array_[\"evt\"][\"evtinfo.event\"])\n",
    "    # runCondition = ak.any(array_[\"evt\"][\"evtinfo.run\"] == run, axis=0)\n",
    "    # subrunCondition = ak.any(array_[\"evt\"][\"evtinfo.subrun\"] == subrun, axis=0)\n",
    "    # eventCondition = ak.any(array_[\"evt\"][\"evtinfo.event\"] == event, axis=0)\n",
    "    runCondition = array_[\"evt\"][\"evtinfo.run\"] == run\n",
    "    subrunCondition = array_[\"evt\"][\"evtinfo.subrun\"] == subrun\n",
    "    eventCondition = array_[\"evt\"][\"evtinfo.event\"] == event\n",
    "    array_ = array_[runCondition & subrunCondition & eventCondition] \n",
    "    # pr.PrintNEvents(array_, masks_=[\")"
   ]
  },
  {
   "cell_type": "code",
   "execution_count": 6,
   "id": "a3ba4236-d5dc-472d-941e-292198881749",
   "metadata": {},
   "outputs": [],
   "source": [
    "# Internal libraries\n",
    "sys.path.append(os.path.abspath(\"../PyMacros\"))\n",
    "import Utils as ut\n",
    "import PrintUtils as pr\n",
    "%run PlotFitUtils.ipynb\n",
    "from Mu2eEAF import ReadData as rd "
   ]
  },
  {
   "cell_type": "code",
   "execution_count": null,
   "id": "ccf0cba7-d305-4f5f-acdb-e25f6193f11a",
   "metadata": {},
   "outputs": [],
   "source": []
  },
  {
   "cell_type": "code",
   "execution_count": 16,
   "id": "7e29d151-7029-41f7-b1e0-75d3051a22a6",
   "metadata": {},
   "outputs": [],
   "source": [
    "'''\n",
    "Get failure info\n",
    "For each file, collect the events. \n",
    "\n",
    "This takes quite a while (2-3 minutes maybe).\n",
    "'''\n",
    "def GetFailures(fileList_, PEs=10, layers=\"3\", particle=\"all\", cut=\"track_cuts\", inDir=\"../Txt/MDC2020ae/concatenated\"):\n",
    "    \n",
    "    # Collect failure info\n",
    "    # inDir=\"../Txt/MDC2020ae/concatenated\"\n",
    "    failureFilePath = f\"{inDir}/failures_concise/failures_concise_{particle}_{PEs}PEs{layers}Layers_{cut}.csv\"\n",
    "\n",
    "    print(f\"\\n---> Using info file {failureFilePath}.\")\n",
    "    failureInfo_ = pd.read_csv(failureFilePath)\n",
    "\n",
    "    if failureInfo_.empty:\n",
    "        print(\"---> No failure info.\")\n",
    "        dummy_ = {}\n",
    "        for field, branches_ in ut.allBranchNames_.items():\n",
    "            dummy_[field] = ak.zip({name: ak.Array([]) for name in branches_})\n",
    "        return ak.zip(dummy_)\n",
    "\n",
    "    # Collect file list\n",
    "    tags_ = list(set(failureInfo_[\"tag\"]))\n",
    "    \n",
    "    # Extract the tag from the file name\n",
    "    def ExtractTag(fileName):\n",
    "        parts = fileName.split('.')\n",
    "        if len(parts) > 1:\n",
    "            return parts[-2]\n",
    "        return None\n",
    "\n",
    "    # Filter and sort files based on tags\n",
    "    fileList_ = sorted(\n",
    "        [file for file in fileList_ if ExtractTag(file) in tags_]\n",
    "        , key=lambda file: tags_.index(ExtractTag(file))\n",
    "    )\n",
    "\n",
    "    # Bug check\n",
    "    if len(fileList_) == len(tags_):\n",
    "        print(\"\\n---> Collected and sorted failure file names.\")\n",
    "    else:\n",
    "        raise Exception(\"\\n---> len(fileList_) != len(tags_)\")\n",
    "\n",
    "    completedFiles = 0\n",
    "    totalFiles = len(fileList_)\n",
    "\n",
    "    print(f\"\\n---> Iterating through {len(fileList_)} files.\\n\") \n",
    "\n",
    "    # Master array to hold results\n",
    "    data_ = ak.Array([])\n",
    "    \n",
    "    # Iterate through file list.\n",
    "    for tag, fileName in zip(tags_, fileList_): \n",
    "    \n",
    "        # Find failure events\n",
    "        thisFailureInfo_ = failureInfo_[failureInfo_[\"tag\"] == tag]\n",
    "        outputStr = ( \n",
    "            f\"\\n--->\\n\" \n",
    "            f\"fileName: {fileName}\\n\"\n",
    "            f\"tag: {tag}\\n\"\n",
    "            f\"failures:\\n{thisFailureInfo_}\\n\"\n",
    "            f\"---\"\n",
    "        )\n",
    "        if False: print(outputStr)\n",
    "    \n",
    "        # Read the file\n",
    "        with uproot.open(fileName) as file: \n",
    "            \n",
    "            # file = (fileName, quiet=True)\n",
    "            # Get array\n",
    "            thisData_ = ut.GetData(file)\n",
    "        \n",
    "            if False: print(f\"\\n---> Loaded corresponding data.\\n{thisData_}\")\n",
    "                \n",
    "            if False: print(f\"\\n---> Applying masks.\")\n",
    "        \n",
    "            # Extract unique values from DataFrame\n",
    "            runs_ = set(thisFailureInfo_[\"evtinfo.run\"])\n",
    "            subruns_ = set(thisFailureInfo_[\"evtinfo.subrun\"])\n",
    "            events_ = set(thisFailureInfo_[\"evtinfo.event\"])\n",
    "        \n",
    "            # Construct masks\n",
    "            runCondition = ak.any([thisData_[\"evt\"][\"evtinfo.run\"] == value for value in runs_], axis=0)\n",
    "            subrunCondition = ak.any([thisData_[\"evt\"][\"evtinfo.subrun\"] == value for value in subruns_], axis=0)\n",
    "            eventCondition = ak.any([thisData_[\"evt\"][\"evtinfo.event\"] == value for value in events_], axis=0)\n",
    "        \n",
    "            # Apply masks\n",
    "            thisData_ = thisData_[runCondition & subrunCondition & eventCondition]\n",
    "        \n",
    "            # Append to master array\n",
    "            if False: print(f\"\\n---> Appending failures to master array.\")\n",
    "            data_ = ak.concatenate([data_, thisData_], axis=0)\n",
    "\n",
    "            if False:\n",
    "                print(thisFailureInfo_)\n",
    "                ut.PrintNEvents(data_)\n",
    "    \n",
    "            completedFiles += 1\n",
    "            percentComplete = (completedFiles / totalFiles) * 100\n",
    "            \n",
    "            print(f\"\\r---> Processed {fileName} ({percentComplete:.1f}% complete...)\", end=\"\") \n",
    "\n",
    "    inputEventList = failureInfo_[\"evtinfo.event\"]\n",
    "    outputEventList = ak.flatten(data_[\"evt\"][\"evtinfo.event\"], axis=None)\n",
    "\n",
    "    return data_"
   ]
  },
  {
   "cell_type": "code",
   "execution_count": 6,
   "id": "9fb411ed-5dfe-4bc3-ae2d-7dd07c28ebb3",
   "metadata": {},
   "outputs": [
    {
     "name": "stdout",
     "output_type": "stream",
     "text": [
      "---> 96 files in list.\n"
     ]
    }
   ],
   "source": [
    "# Get file list\n",
    "fileListPath=\"../Txt/FileLists/MDC2020aeOnExpData.txt\"\n",
    "def ReadFileList(fileListPath):\n",
    "  with open(fileListPath, \"r\") as fileList_:\n",
    "    lines = fileList_.readlines()\n",
    "    lines = [line.strip() for line in lines]  # Remove leading/trailing whitespace\n",
    "  return lines\n",
    "fileList_=ReadFileList(fileListPath)\n",
    "print(f\"---> {len(fileList_)} files in list.\")"
   ]
  },
  {
   "cell_type": "code",
   "execution_count": 19,
   "id": "c2e2ab39-1cb2-4233-a89e-31fa8a1e0c4c",
   "metadata": {},
   "outputs": [
    {
     "name": "stdout",
     "output_type": "stream",
     "text": [
      "\n",
      "---> Using info file ../Txt/MDC2020ae/AugustCRVMeeting/FourthPass/concatenated/failures_concise/failures_concise_all_10PEs3Layers_no_track_cuts.csv.\n",
      "\n",
      "---> Collected and sorted failure file names.\n",
      "\n",
      "---> Iterating through 36 files.\n",
      "\n",
      "---> Processed /exp/mu2e/data/users/sgrant/CRVSim/CosmicCRYExtractedCatTriggered.MDC2020ae_best_v1_3.000/11946817/00/00078/nts.sgrant.CosmicCRYExtractedCatTriggered.MDC2020ae_best_v1_3.001205_00000145.root (100.0% complete...)"
     ]
    }
   ],
   "source": [
    "failures_track_cuts_ = GetFailures(fileList_, PEs=PEs, layers=layers, particle=particle, cut=\"no_track_cuts\", inDir=\"../Txt/MDC2020ae/AugustCRVMeeting/FourthPass/concatenated\")"
   ]
  },
  {
   "cell_type": "code",
   "execution_count": 22,
   "id": "f650e7cb-3a8f-49bd-a960-91272ac65e74",
   "metadata": {},
   "outputs": [],
   "source": [
    "failures_no_track_cuts_ = failures_track_cuts_"
   ]
  },
  {
   "cell_type": "code",
   "execution_count": 18,
   "id": "0cae004c-4373-4c97-8192-284457beb87f",
   "metadata": {},
   "outputs": [
    {
     "name": "stdout",
     "output_type": "stream",
     "text": [
      "\n",
      "---> Using info file ../Txt/MDC2020ae/AugustCRVMeeting/FourthPass/concatenated/failures_concise/failures_concise_all_10PEs3Layers_track_cuts.csv.\n",
      "---> No failure info.\n"
     ]
    }
   ],
   "source": [
    "failures_track_cuts_ = GetFailures(fileList_, PEs=PEs, layers=layers, particle=particle, cut=\"track_cuts\", inDir=\"../Txt/MDC2020ae/AugustCRVMeeting/FourthPass/concatenated\")"
   ]
  },
  {
   "cell_type": "code",
   "execution_count": 26,
   "id": "d8f78fea-c6de-42a6-8aa6-55fbd8a7eb8c",
   "metadata": {},
   "outputs": [
    {
     "name": "stdout",
     "output_type": "stream",
     "text": [
      "\n",
      "---> Using info file ../Txt/MDC2020ae/concatenated/failures_concise/failures_concise_all_10PEs3Layers_track_crv12.csv.\n",
      "\n",
      "---> Collected and sorted failure file names.\n",
      "\n",
      "---> Iterating through 21 files.\n",
      "\n",
      "---> Processed /exp/mu2e/data/users/sgrant/CRVSim/CosmicCRYExtractedCatTriggered.MDC2020ae_best_v1_3.000/11946817/00/00070/nts.sgrant.CosmicCRYExtractedCatTriggered.MDC2020ae_best_v1_3.001205_00000321.root (100.0% complete...)"
     ]
    }
   ],
   "source": [
    "failures_track_crv12_ = GetFailures(fileList_, PEs=PEs, layers=layers, particle=particle, cut=\"track_crv12\")"
   ]
  },
  {
   "cell_type": "code",
   "execution_count": 21,
   "id": "fb2a9d3b-d5fc-4788-9687-010fb8d7e093",
   "metadata": {},
   "outputs": [
    {
     "name": "stdout",
     "output_type": "stream",
     "text": [
      "[11, -211, 2212, -11]\n"
     ]
    },
    {
     "data": {
      "image/png": "[encoded data removed]",
      "text/plain": [
       "<Figure size 640x480 with 1 Axes>"
      ]
     },
     "metadata": {},
     "output_type": "display_data"
    },
    {
     "name": "stdout",
     "output_type": "stream",
     "text": [
      "---> Written ../Images/MDC2020ae/Failures/FifthPass/bar_pdgid_track_crv12.png\n"
     ]
    }
   ],
   "source": [
    "print(list(set(ak.flatten(failures_track_crv12_[\"crv\"][\"crvcoincsmc.pdgId\"], axis=None))))\n",
    "\n",
    "particle_dict = {\n",
    "    -13: 'mu+',\n",
    "    13: 'mu-',\n",
    "    2212: 'proton',\n",
    "    -211: 'pi-',\n",
    "    -11: 'e+',\n",
    "    11: 'e-',\n",
    "    # \"other\": \"other\"\n",
    "    # Add more entries as needed\n",
    "}\n",
    "\n",
    "BarChart(ak.flatten(failures_track_crv12_[\"crv\"][\"crvcoincsmc.pdgId\"], axis=None)\n",
    "         , label_dict=particle_dict, title=f\"Tracker and CRV-DS ({PEs} PEs/layer, {layers}/4 layers)\",  ylabel=\"Unique particle species / failure\", fout=f\"../Images/MDC2020ae/Failures/FifthPass/bar_pdgid_track_crv12.png\", percentage=False)"
   ]
  },
  {
   "cell_type": "code",
   "execution_count": 25,
   "id": "f62bd5e4-19d2-44fc-bc27-1420d9c2e054",
   "metadata": {},
   "outputs": [
    {
     "name": "stdout",
     "output_type": "stream",
     "text": [
      "[11, 2212, -11, -211]\n"
     ]
    },
    {
     "ename": "FileNotFoundError",
     "evalue": "[Errno 2] No such file or directory: '/exp/mu2e/data/users/sgrant/CRVSim/Analyses/Images/MDC2020ae/Failures/FourthPass/bar_pdgid_no_track_cuts.png'",
     "output_type": "error",
     "traceback": [
      "\u001b[0;31m---------------------------------------------------------------------------\u001b[0m",
      "\u001b[0;31mFileNotFoundError\u001b[0m                         Traceback (most recent call last)",
      "Cell \u001b[0;32mIn[25], line 14\u001b[0m\n\u001b[1;32m      1\u001b[0m \u001b[38;5;28mprint\u001b[39m(\u001b[38;5;28mlist\u001b[39m(\u001b[38;5;28mset\u001b[39m(ak\u001b[38;5;241m.\u001b[39mflatten(failures_no_track_cuts_[\u001b[38;5;124m\"\u001b[39m\u001b[38;5;124mcrv\u001b[39m\u001b[38;5;124m\"\u001b[39m][\u001b[38;5;124m\"\u001b[39m\u001b[38;5;124mcrvcoincsmc.pdgId\u001b[39m\u001b[38;5;124m\"\u001b[39m], axis\u001b[38;5;241m=\u001b[39m\u001b[38;5;28;01mNone\u001b[39;00m))))\n\u001b[1;32m      3\u001b[0m particle_dict \u001b[38;5;241m=\u001b[39m {\n\u001b[1;32m      4\u001b[0m     \u001b[38;5;241m-\u001b[39m\u001b[38;5;241m13\u001b[39m: \u001b[38;5;124m'\u001b[39m\u001b[38;5;124mmu+\u001b[39m\u001b[38;5;124m'\u001b[39m,\n\u001b[1;32m      5\u001b[0m     \u001b[38;5;241m13\u001b[39m: \u001b[38;5;124m'\u001b[39m\u001b[38;5;124mmu-\u001b[39m\u001b[38;5;124m'\u001b[39m,\n\u001b[0;32m   (...)\u001b[0m\n\u001b[1;32m     11\u001b[0m     \u001b[38;5;66;03m# Add more entries as needed\u001b[39;00m\n\u001b[1;32m     12\u001b[0m }\n\u001b[0;32m---> 14\u001b[0m \u001b[43mBarChart\u001b[49m\u001b[43m(\u001b[49m\u001b[43mak\u001b[49m\u001b[38;5;241;43m.\u001b[39;49m\u001b[43mflatten\u001b[49m\u001b[43m(\u001b[49m\u001b[43mfailures_no_track_cuts_\u001b[49m\u001b[43m[\u001b[49m\u001b[38;5;124;43m\"\u001b[39;49m\u001b[38;5;124;43mcrv\u001b[39;49m\u001b[38;5;124;43m\"\u001b[39;49m\u001b[43m]\u001b[49m\u001b[43m[\u001b[49m\u001b[38;5;124;43m\"\u001b[39;49m\u001b[38;5;124;43mcrvcoincsmc.pdgId\u001b[39;49m\u001b[38;5;124;43m\"\u001b[39;49m\u001b[43m]\u001b[49m\u001b[43m,\u001b[49m\u001b[43m \u001b[49m\u001b[43maxis\u001b[49m\u001b[38;5;241;43m=\u001b[39;49m\u001b[38;5;28;43;01mNone\u001b[39;49;00m\u001b[43m)\u001b[49m\n\u001b[1;32m     15\u001b[0m \u001b[43m         \u001b[49m\u001b[43m,\u001b[49m\u001b[43m \u001b[49m\u001b[43mlabel_dict\u001b[49m\u001b[38;5;241;43m=\u001b[39;49m\u001b[43mparticle_dict\u001b[49m\u001b[43m,\u001b[49m\u001b[43m \u001b[49m\u001b[43mtitle\u001b[49m\u001b[38;5;241;43m=\u001b[39;49m\u001b[38;5;124;43mf\u001b[39;49m\u001b[38;5;124;43m\"\u001b[39;49m\u001b[38;5;124;43mNo track cuts (\u001b[39;49m\u001b[38;5;132;43;01m{\u001b[39;49;00m\u001b[43mPEs\u001b[49m\u001b[38;5;132;43;01m}\u001b[39;49;00m\u001b[38;5;124;43m PEs/layer, \u001b[39;49m\u001b[38;5;132;43;01m{\u001b[39;49;00m\u001b[43mlayers\u001b[49m\u001b[38;5;132;43;01m}\u001b[39;49;00m\u001b[38;5;124;43m/4 layers)\u001b[39;49m\u001b[38;5;124;43m\"\u001b[39;49m\u001b[43m,\u001b[49m\u001b[43m  \u001b[49m\u001b[43mylabel\u001b[49m\u001b[38;5;241;43m=\u001b[39;49m\u001b[38;5;124;43m\"\u001b[39;49m\u001b[38;5;124;43mUnique particle species / failure\u001b[39;49m\u001b[38;5;124;43m\"\u001b[39;49m\u001b[43m,\u001b[49m\u001b[43m \u001b[49m\u001b[43mfout\u001b[49m\u001b[38;5;241;43m=\u001b[39;49m\u001b[38;5;124;43mf\u001b[39;49m\u001b[38;5;124;43m\"\u001b[39;49m\u001b[38;5;124;43m../Images/MDC2020ae/Failures/FourthPass/bar_pdgid_no_track_cuts.png\u001b[39;49m\u001b[38;5;124;43m\"\u001b[39;49m\u001b[43m,\u001b[49m\u001b[43m \u001b[49m\u001b[43mpercentage\u001b[49m\u001b[38;5;241;43m=\u001b[39;49m\u001b[38;5;28;43;01mFalse\u001b[39;49;00m\u001b[43m)\u001b[49m\n",
      "File \u001b[0;32m/tmp/ipykernel_93382/1872496466.py:72\u001b[0m, in \u001b[0;36mBarChart\u001b[0;34m(data_, label_dict, title, xlabel, ylabel, fout, percentage, bar_alpha, bar_color, NDPI)\u001b[0m\n\u001b[1;32m     69\u001b[0m plt\u001b[38;5;241m.\u001b[39mtight_layout()\n\u001b[1;32m     71\u001b[0m \u001b[38;5;66;03m# Save the figure\u001b[39;00m\n\u001b[0;32m---> 72\u001b[0m \u001b[43mplt\u001b[49m\u001b[38;5;241;43m.\u001b[39;49m\u001b[43msavefig\u001b[49m\u001b[43m(\u001b[49m\u001b[43mfout\u001b[49m\u001b[43m,\u001b[49m\u001b[43m \u001b[49m\u001b[43mdpi\u001b[49m\u001b[38;5;241;43m=\u001b[39;49m\u001b[43mNDPI\u001b[49m\u001b[43m,\u001b[49m\u001b[43m \u001b[49m\u001b[43mbbox_inches\u001b[49m\u001b[38;5;241;43m=\u001b[39;49m\u001b[38;5;124;43m\"\u001b[39;49m\u001b[38;5;124;43mtight\u001b[39;49m\u001b[38;5;124;43m\"\u001b[39;49m\u001b[43m)\u001b[49m\n\u001b[1;32m     73\u001b[0m plt\u001b[38;5;241m.\u001b[39mshow()\n\u001b[1;32m     75\u001b[0m \u001b[38;5;28mprint\u001b[39m(\u001b[38;5;124m\"\u001b[39m\u001b[38;5;124m---> Written\u001b[39m\u001b[38;5;124m\"\u001b[39m, fout)\n",
      "File \u001b[0;32m~/.conda/envs/Mu2eEnv/lib/python3.10/site-packages/matplotlib/pyplot.py:1228\u001b[0m, in \u001b[0;36msavefig\u001b[0;34m(*args, **kwargs)\u001b[0m\n\u001b[1;32m   1225\u001b[0m fig \u001b[38;5;241m=\u001b[39m gcf()\n\u001b[1;32m   1226\u001b[0m \u001b[38;5;66;03m# savefig default implementation has no return, so mypy is unhappy\u001b[39;00m\n\u001b[1;32m   1227\u001b[0m \u001b[38;5;66;03m# presumably this is here because subclasses can return?\u001b[39;00m\n\u001b[0;32m-> 1228\u001b[0m res \u001b[38;5;241m=\u001b[39m \u001b[43mfig\u001b[49m\u001b[38;5;241;43m.\u001b[39;49m\u001b[43msavefig\u001b[49m\u001b[43m(\u001b[49m\u001b[38;5;241;43m*\u001b[39;49m\u001b[43margs\u001b[49m\u001b[43m,\u001b[49m\u001b[43m \u001b[49m\u001b[38;5;241;43m*\u001b[39;49m\u001b[38;5;241;43m*\u001b[39;49m\u001b[43mkwargs\u001b[49m\u001b[43m)\u001b[49m  \u001b[38;5;66;03m# type: ignore[func-returns-value]\u001b[39;00m\n\u001b[1;32m   1229\u001b[0m fig\u001b[38;5;241m.\u001b[39mcanvas\u001b[38;5;241m.\u001b[39mdraw_idle()  \u001b[38;5;66;03m# Need this if 'transparent=True', to reset colors.\u001b[39;00m\n\u001b[1;32m   1230\u001b[0m \u001b[38;5;28;01mreturn\u001b[39;00m res\n",
      "File \u001b[0;32m~/.conda/envs/Mu2eEnv/lib/python3.10/site-packages/matplotlib/figure.py:3395\u001b[0m, in \u001b[0;36mFigure.savefig\u001b[0;34m(self, fname, transparent, **kwargs)\u001b[0m\n\u001b[1;32m   3393\u001b[0m     \u001b[38;5;28;01mfor\u001b[39;00m ax \u001b[38;5;129;01min\u001b[39;00m \u001b[38;5;28mself\u001b[39m\u001b[38;5;241m.\u001b[39maxes:\n\u001b[1;32m   3394\u001b[0m         _recursively_make_axes_transparent(stack, ax)\n\u001b[0;32m-> 3395\u001b[0m \u001b[38;5;28;43mself\u001b[39;49m\u001b[38;5;241;43m.\u001b[39;49m\u001b[43mcanvas\u001b[49m\u001b[38;5;241;43m.\u001b[39;49m\u001b[43mprint_figure\u001b[49m\u001b[43m(\u001b[49m\u001b[43mfname\u001b[49m\u001b[43m,\u001b[49m\u001b[43m \u001b[49m\u001b[38;5;241;43m*\u001b[39;49m\u001b[38;5;241;43m*\u001b[39;49m\u001b[43mkwargs\u001b[49m\u001b[43m)\u001b[49m\n",
      "File \u001b[0;32m~/.conda/envs/Mu2eEnv/lib/python3.10/site-packages/matplotlib/backend_bases.py:2204\u001b[0m, in \u001b[0;36mFigureCanvasBase.print_figure\u001b[0;34m(self, filename, dpi, facecolor, edgecolor, orientation, format, bbox_inches, pad_inches, bbox_extra_artists, backend, **kwargs)\u001b[0m\n\u001b[1;32m   2200\u001b[0m \u001b[38;5;28;01mtry\u001b[39;00m:\n\u001b[1;32m   2201\u001b[0m     \u001b[38;5;66;03m# _get_renderer may change the figure dpi (as vector formats\u001b[39;00m\n\u001b[1;32m   2202\u001b[0m     \u001b[38;5;66;03m# force the figure dpi to 72), so we need to set it again here.\u001b[39;00m\n\u001b[1;32m   2203\u001b[0m     \u001b[38;5;28;01mwith\u001b[39;00m cbook\u001b[38;5;241m.\u001b[39m_setattr_cm(\u001b[38;5;28mself\u001b[39m\u001b[38;5;241m.\u001b[39mfigure, dpi\u001b[38;5;241m=\u001b[39mdpi):\n\u001b[0;32m-> 2204\u001b[0m         result \u001b[38;5;241m=\u001b[39m \u001b[43mprint_method\u001b[49m\u001b[43m(\u001b[49m\n\u001b[1;32m   2205\u001b[0m \u001b[43m            \u001b[49m\u001b[43mfilename\u001b[49m\u001b[43m,\u001b[49m\n\u001b[1;32m   2206\u001b[0m \u001b[43m            \u001b[49m\u001b[43mfacecolor\u001b[49m\u001b[38;5;241;43m=\u001b[39;49m\u001b[43mfacecolor\u001b[49m\u001b[43m,\u001b[49m\n\u001b[1;32m   2207\u001b[0m \u001b[43m            \u001b[49m\u001b[43medgecolor\u001b[49m\u001b[38;5;241;43m=\u001b[39;49m\u001b[43medgecolor\u001b[49m\u001b[43m,\u001b[49m\n\u001b[1;32m   2208\u001b[0m \u001b[43m            \u001b[49m\u001b[43morientation\u001b[49m\u001b[38;5;241;43m=\u001b[39;49m\u001b[43morientation\u001b[49m\u001b[43m,\u001b[49m\n\u001b[1;32m   2209\u001b[0m \u001b[43m            \u001b[49m\u001b[43mbbox_inches_restore\u001b[49m\u001b[38;5;241;43m=\u001b[39;49m\u001b[43m_bbox_inches_restore\u001b[49m\u001b[43m,\u001b[49m\n\u001b[1;32m   2210\u001b[0m \u001b[43m            \u001b[49m\u001b[38;5;241;43m*\u001b[39;49m\u001b[38;5;241;43m*\u001b[39;49m\u001b[43mkwargs\u001b[49m\u001b[43m)\u001b[49m\n\u001b[1;32m   2211\u001b[0m \u001b[38;5;28;01mfinally\u001b[39;00m:\n\u001b[1;32m   2212\u001b[0m     \u001b[38;5;28;01mif\u001b[39;00m bbox_inches \u001b[38;5;129;01mand\u001b[39;00m restore_bbox:\n",
      "File \u001b[0;32m~/.conda/envs/Mu2eEnv/lib/python3.10/site-packages/matplotlib/backend_bases.py:2054\u001b[0m, in \u001b[0;36mFigureCanvasBase._switch_canvas_and_return_print_method.<locals>.<lambda>\u001b[0;34m(*args, **kwargs)\u001b[0m\n\u001b[1;32m   2050\u001b[0m     optional_kws \u001b[38;5;241m=\u001b[39m {  \u001b[38;5;66;03m# Passed by print_figure for other renderers.\u001b[39;00m\n\u001b[1;32m   2051\u001b[0m         \u001b[38;5;124m\"\u001b[39m\u001b[38;5;124mdpi\u001b[39m\u001b[38;5;124m\"\u001b[39m, \u001b[38;5;124m\"\u001b[39m\u001b[38;5;124mfacecolor\u001b[39m\u001b[38;5;124m\"\u001b[39m, \u001b[38;5;124m\"\u001b[39m\u001b[38;5;124medgecolor\u001b[39m\u001b[38;5;124m\"\u001b[39m, \u001b[38;5;124m\"\u001b[39m\u001b[38;5;124morientation\u001b[39m\u001b[38;5;124m\"\u001b[39m,\n\u001b[1;32m   2052\u001b[0m         \u001b[38;5;124m\"\u001b[39m\u001b[38;5;124mbbox_inches_restore\u001b[39m\u001b[38;5;124m\"\u001b[39m}\n\u001b[1;32m   2053\u001b[0m     skip \u001b[38;5;241m=\u001b[39m optional_kws \u001b[38;5;241m-\u001b[39m {\u001b[38;5;241m*\u001b[39minspect\u001b[38;5;241m.\u001b[39msignature(meth)\u001b[38;5;241m.\u001b[39mparameters}\n\u001b[0;32m-> 2054\u001b[0m     print_method \u001b[38;5;241m=\u001b[39m functools\u001b[38;5;241m.\u001b[39mwraps(meth)(\u001b[38;5;28;01mlambda\u001b[39;00m \u001b[38;5;241m*\u001b[39margs, \u001b[38;5;241m*\u001b[39m\u001b[38;5;241m*\u001b[39mkwargs: \u001b[43mmeth\u001b[49m\u001b[43m(\u001b[49m\n\u001b[1;32m   2055\u001b[0m \u001b[43m        \u001b[49m\u001b[38;5;241;43m*\u001b[39;49m\u001b[43margs\u001b[49m\u001b[43m,\u001b[49m\u001b[43m \u001b[49m\u001b[38;5;241;43m*\u001b[39;49m\u001b[38;5;241;43m*\u001b[39;49m\u001b[43m{\u001b[49m\u001b[43mk\u001b[49m\u001b[43m:\u001b[49m\u001b[43m \u001b[49m\u001b[43mv\u001b[49m\u001b[43m \u001b[49m\u001b[38;5;28;43;01mfor\u001b[39;49;00m\u001b[43m \u001b[49m\u001b[43mk\u001b[49m\u001b[43m,\u001b[49m\u001b[43m \u001b[49m\u001b[43mv\u001b[49m\u001b[43m \u001b[49m\u001b[38;5;129;43;01min\u001b[39;49;00m\u001b[43m \u001b[49m\u001b[43mkwargs\u001b[49m\u001b[38;5;241;43m.\u001b[39;49m\u001b[43mitems\u001b[49m\u001b[43m(\u001b[49m\u001b[43m)\u001b[49m\u001b[43m \u001b[49m\u001b[38;5;28;43;01mif\u001b[39;49;00m\u001b[43m \u001b[49m\u001b[43mk\u001b[49m\u001b[43m \u001b[49m\u001b[38;5;129;43;01mnot\u001b[39;49;00m\u001b[43m \u001b[49m\u001b[38;5;129;43;01min\u001b[39;49;00m\u001b[43m \u001b[49m\u001b[43mskip\u001b[49m\u001b[43m}\u001b[49m\u001b[43m)\u001b[49m)\n\u001b[1;32m   2056\u001b[0m \u001b[38;5;28;01melse\u001b[39;00m:  \u001b[38;5;66;03m# Let third-parties do as they see fit.\u001b[39;00m\n\u001b[1;32m   2057\u001b[0m     print_method \u001b[38;5;241m=\u001b[39m meth\n",
      "File \u001b[0;32m~/.conda/envs/Mu2eEnv/lib/python3.10/site-packages/matplotlib/backends/backend_agg.py:496\u001b[0m, in \u001b[0;36mFigureCanvasAgg.print_png\u001b[0;34m(self, filename_or_obj, metadata, pil_kwargs)\u001b[0m\n\u001b[1;32m    449\u001b[0m \u001b[38;5;28;01mdef\u001b[39;00m \u001b[38;5;21mprint_png\u001b[39m(\u001b[38;5;28mself\u001b[39m, filename_or_obj, \u001b[38;5;241m*\u001b[39m, metadata\u001b[38;5;241m=\u001b[39m\u001b[38;5;28;01mNone\u001b[39;00m, pil_kwargs\u001b[38;5;241m=\u001b[39m\u001b[38;5;28;01mNone\u001b[39;00m):\n\u001b[1;32m    450\u001b[0m \u001b[38;5;250m    \u001b[39m\u001b[38;5;124;03m\"\"\"\u001b[39;00m\n\u001b[1;32m    451\u001b[0m \u001b[38;5;124;03m    Write the figure to a PNG file.\u001b[39;00m\n\u001b[1;32m    452\u001b[0m \n\u001b[0;32m   (...)\u001b[0m\n\u001b[1;32m    494\u001b[0m \u001b[38;5;124;03m        *metadata*, including the default 'Software' key.\u001b[39;00m\n\u001b[1;32m    495\u001b[0m \u001b[38;5;124;03m    \"\"\"\u001b[39;00m\n\u001b[0;32m--> 496\u001b[0m     \u001b[38;5;28;43mself\u001b[39;49m\u001b[38;5;241;43m.\u001b[39;49m\u001b[43m_print_pil\u001b[49m\u001b[43m(\u001b[49m\u001b[43mfilename_or_obj\u001b[49m\u001b[43m,\u001b[49m\u001b[43m \u001b[49m\u001b[38;5;124;43m\"\u001b[39;49m\u001b[38;5;124;43mpng\u001b[39;49m\u001b[38;5;124;43m\"\u001b[39;49m\u001b[43m,\u001b[49m\u001b[43m \u001b[49m\u001b[43mpil_kwargs\u001b[49m\u001b[43m,\u001b[49m\u001b[43m \u001b[49m\u001b[43mmetadata\u001b[49m\u001b[43m)\u001b[49m\n",
      "File \u001b[0;32m~/.conda/envs/Mu2eEnv/lib/python3.10/site-packages/matplotlib/backends/backend_agg.py:445\u001b[0m, in \u001b[0;36mFigureCanvasAgg._print_pil\u001b[0;34m(self, filename_or_obj, fmt, pil_kwargs, metadata)\u001b[0m\n\u001b[1;32m    440\u001b[0m \u001b[38;5;250m\u001b[39m\u001b[38;5;124;03m\"\"\"\u001b[39;00m\n\u001b[1;32m    441\u001b[0m \u001b[38;5;124;03mDraw the canvas, then save it using `.image.imsave` (to which\u001b[39;00m\n\u001b[1;32m    442\u001b[0m \u001b[38;5;124;03m*pil_kwargs* and *metadata* are forwarded).\u001b[39;00m\n\u001b[1;32m    443\u001b[0m \u001b[38;5;124;03m\"\"\"\u001b[39;00m\n\u001b[1;32m    444\u001b[0m FigureCanvasAgg\u001b[38;5;241m.\u001b[39mdraw(\u001b[38;5;28mself\u001b[39m)\n\u001b[0;32m--> 445\u001b[0m \u001b[43mmpl\u001b[49m\u001b[38;5;241;43m.\u001b[39;49m\u001b[43mimage\u001b[49m\u001b[38;5;241;43m.\u001b[39;49m\u001b[43mimsave\u001b[49m\u001b[43m(\u001b[49m\n\u001b[1;32m    446\u001b[0m \u001b[43m    \u001b[49m\u001b[43mfilename_or_obj\u001b[49m\u001b[43m,\u001b[49m\u001b[43m \u001b[49m\u001b[38;5;28;43mself\u001b[39;49m\u001b[38;5;241;43m.\u001b[39;49m\u001b[43mbuffer_rgba\u001b[49m\u001b[43m(\u001b[49m\u001b[43m)\u001b[49m\u001b[43m,\u001b[49m\u001b[43m \u001b[49m\u001b[38;5;28;43mformat\u001b[39;49m\u001b[38;5;241;43m=\u001b[39;49m\u001b[43mfmt\u001b[49m\u001b[43m,\u001b[49m\u001b[43m \u001b[49m\u001b[43morigin\u001b[49m\u001b[38;5;241;43m=\u001b[39;49m\u001b[38;5;124;43m\"\u001b[39;49m\u001b[38;5;124;43mupper\u001b[39;49m\u001b[38;5;124;43m\"\u001b[39;49m\u001b[43m,\u001b[49m\n\u001b[1;32m    447\u001b[0m \u001b[43m    \u001b[49m\u001b[43mdpi\u001b[49m\u001b[38;5;241;43m=\u001b[39;49m\u001b[38;5;28;43mself\u001b[39;49m\u001b[38;5;241;43m.\u001b[39;49m\u001b[43mfigure\u001b[49m\u001b[38;5;241;43m.\u001b[39;49m\u001b[43mdpi\u001b[49m\u001b[43m,\u001b[49m\u001b[43m \u001b[49m\u001b[43mmetadata\u001b[49m\u001b[38;5;241;43m=\u001b[39;49m\u001b[43mmetadata\u001b[49m\u001b[43m,\u001b[49m\u001b[43m \u001b[49m\u001b[43mpil_kwargs\u001b[49m\u001b[38;5;241;43m=\u001b[39;49m\u001b[43mpil_kwargs\u001b[49m\u001b[43m)\u001b[49m\n",
      "File \u001b[0;32m~/.conda/envs/Mu2eEnv/lib/python3.10/site-packages/matplotlib/image.py:1676\u001b[0m, in \u001b[0;36mimsave\u001b[0;34m(fname, arr, vmin, vmax, cmap, format, origin, dpi, metadata, pil_kwargs)\u001b[0m\n\u001b[1;32m   1674\u001b[0m pil_kwargs\u001b[38;5;241m.\u001b[39msetdefault(\u001b[38;5;124m\"\u001b[39m\u001b[38;5;124mformat\u001b[39m\u001b[38;5;124m\"\u001b[39m, \u001b[38;5;28mformat\u001b[39m)\n\u001b[1;32m   1675\u001b[0m pil_kwargs\u001b[38;5;241m.\u001b[39msetdefault(\u001b[38;5;124m\"\u001b[39m\u001b[38;5;124mdpi\u001b[39m\u001b[38;5;124m\"\u001b[39m, (dpi, dpi))\n\u001b[0;32m-> 1676\u001b[0m \u001b[43mimage\u001b[49m\u001b[38;5;241;43m.\u001b[39;49m\u001b[43msave\u001b[49m\u001b[43m(\u001b[49m\u001b[43mfname\u001b[49m\u001b[43m,\u001b[49m\u001b[43m \u001b[49m\u001b[38;5;241;43m*\u001b[39;49m\u001b[38;5;241;43m*\u001b[39;49m\u001b[43mpil_kwargs\u001b[49m\u001b[43m)\u001b[49m\n",
      "File \u001b[0;32m~/.conda/envs/Mu2eEnv/lib/python3.10/site-packages/PIL/Image.py:2563\u001b[0m, in \u001b[0;36mImage.save\u001b[0;34m(self, fp, format, **params)\u001b[0m\n\u001b[1;32m   2561\u001b[0m         fp \u001b[38;5;241m=\u001b[39m builtins\u001b[38;5;241m.\u001b[39mopen(filename, \u001b[38;5;124m\"\u001b[39m\u001b[38;5;124mr+b\u001b[39m\u001b[38;5;124m\"\u001b[39m)\n\u001b[1;32m   2562\u001b[0m     \u001b[38;5;28;01melse\u001b[39;00m:\n\u001b[0;32m-> 2563\u001b[0m         fp \u001b[38;5;241m=\u001b[39m \u001b[43mbuiltins\u001b[49m\u001b[38;5;241;43m.\u001b[39;49m\u001b[43mopen\u001b[49m\u001b[43m(\u001b[49m\u001b[43mfilename\u001b[49m\u001b[43m,\u001b[49m\u001b[43m \u001b[49m\u001b[38;5;124;43m\"\u001b[39;49m\u001b[38;5;124;43mw+b\u001b[39;49m\u001b[38;5;124;43m\"\u001b[39;49m\u001b[43m)\u001b[49m\n\u001b[1;32m   2564\u001b[0m \u001b[38;5;28;01melse\u001b[39;00m:\n\u001b[1;32m   2565\u001b[0m     fp \u001b[38;5;241m=\u001b[39m cast(IO[\u001b[38;5;28mbytes\u001b[39m], fp)\n",
      "\u001b[0;31mFileNotFoundError\u001b[0m: [Errno 2] No such file or directory: '/exp/mu2e/data/users/sgrant/CRVSim/Analyses/Images/MDC2020ae/Failures/FourthPass/bar_pdgid_no_track_cuts.png'"
     ]
    },
    {
     "data": {
      "image/png": "[encoded data removed]",
      "text/plain": [
       "<Figure size 640x480 with 1 Axes>"
      ]
     },
     "metadata": {},
     "output_type": "display_data"
    }
   ],
   "source": [
    "print(list(set(ak.flatten(failures_no_track_cuts_[\"crv\"][\"crvcoincsmc.pdgId\"], axis=None))))\n",
    "\n",
    "particle_dict = {\n",
    "    -13: 'mu+',\n",
    "    13: 'mu-',\n",
    "    2212: 'proton',\n",
    "    -211: 'pi-',\n",
    "    -11: 'e+',\n",
    "    11: 'e-',\n",
    "    # \"other\": \"other\"\n",
    "    # Add more entries as needed\n",
    "}\n",
    "\n",
    "BarChart(ak.flatten(failures_no_track_cuts_[\"crv\"][\"crvcoincsmc.pdgId\"], axis=None)\n",
    "         , label_dict=particle_dict, title=f\"No track cuts ({PEs} PEs/layer, {layers}/4 layers)\",  ylabel=\"Unique particle species / failure\", fout=f\"../Images/MDC2020ae/Failures/FourthPass/bar_pdgid_no_track_cuts.png\", percentage=False)"
   ]
  },
  {
   "cell_type": "code",
   "execution_count": 9,
   "id": "735ea4a2-35c5-44b8-86f4-ecfd99954cd3",
   "metadata": {},
   "outputs": [
    {
     "ename": "NameError",
     "evalue": "name 'failures_no_track_cuts_' is not defined",
     "output_type": "error",
     "traceback": [
      "\u001b[0;31m---------------------------------------------------------------------------\u001b[0m",
      "\u001b[0;31mNameError\u001b[0m                                 Traceback (most recent call last)",
      "Cell \u001b[0;32mIn[9], line 2\u001b[0m\n\u001b[1;32m      1\u001b[0m \u001b[38;5;66;03m# Plot failure info\u001b[39;00m\n\u001b[0;32m----> 2\u001b[0m \u001b[38;5;28mprint\u001b[39m(\u001b[38;5;28mlist\u001b[39m(\u001b[38;5;28mset\u001b[39m(ak\u001b[38;5;241m.\u001b[39mflatten(\u001b[43mfailures_no_track_cuts_\u001b[49m[\u001b[38;5;124m\"\u001b[39m\u001b[38;5;124mcrv\u001b[39m\u001b[38;5;124m\"\u001b[39m][\u001b[38;5;124m\"\u001b[39m\u001b[38;5;124mcrvcoincsmc.pdgId\u001b[39m\u001b[38;5;124m\"\u001b[39m], axis\u001b[38;5;241m=\u001b[39m\u001b[38;5;28;01mNone\u001b[39;00m))))\n\u001b[1;32m      4\u001b[0m particle_dict \u001b[38;5;241m=\u001b[39m {\n\u001b[1;32m      5\u001b[0m     \u001b[38;5;241m-\u001b[39m\u001b[38;5;241m13\u001b[39m: \u001b[38;5;124m'\u001b[39m\u001b[38;5;124mmu+\u001b[39m\u001b[38;5;124m'\u001b[39m,\n\u001b[1;32m      6\u001b[0m     \u001b[38;5;241m13\u001b[39m: \u001b[38;5;124m'\u001b[39m\u001b[38;5;124mmu-\u001b[39m\u001b[38;5;124m'\u001b[39m,\n\u001b[0;32m   (...)\u001b[0m\n\u001b[1;32m     12\u001b[0m     \u001b[38;5;66;03m# Add more entries as needed\u001b[39;00m\n\u001b[1;32m     13\u001b[0m }\n\u001b[1;32m     15\u001b[0m SimpleBarChart({\u001b[38;5;124m\"\u001b[39m\u001b[38;5;124mNo track cuts\u001b[39m\u001b[38;5;124m\"\u001b[39m : \u001b[38;5;28mlen\u001b[39m(failures_no_track_cuts_[\u001b[38;5;124m\"\u001b[39m\u001b[38;5;124mevt\u001b[39m\u001b[38;5;124m\"\u001b[39m][\u001b[38;5;124m\"\u001b[39m\u001b[38;5;124mevtinfo.event\u001b[39m\u001b[38;5;124m\"\u001b[39m]), \u001b[38;5;124m\"\u001b[39m\u001b[38;5;124mTrack cuts\u001b[39m\u001b[38;5;124m\"\u001b[39m : \u001b[38;5;28mlen\u001b[39m(failures_track_cuts_[\u001b[38;5;124m\"\u001b[39m\u001b[38;5;124mevt\u001b[39m\u001b[38;5;124m\"\u001b[39m][\u001b[38;5;124m\"\u001b[39m\u001b[38;5;124mevtinfo.event\u001b[39m\u001b[38;5;124m\"\u001b[39m]) }\n\u001b[1;32m     16\u001b[0m          , ylabel\u001b[38;5;241m=\u001b[39m\u001b[38;5;124m\"\u001b[39m\u001b[38;5;124mFailures\u001b[39m\u001b[38;5;124m\"\u001b[39m, fout\u001b[38;5;241m=\u001b[39m\u001b[38;5;124mf\u001b[39m\u001b[38;5;124m\"\u001b[39m\u001b[38;5;124m../Images/MDC2020ae/Failures/FouthPass/bar_failures.png\u001b[39m\u001b[38;5;124m\"\u001b[39m)\n",
      "\u001b[0;31mNameError\u001b[0m: name 'failures_no_track_cuts_' is not defined"
     ]
    }
   ],
   "source": [
    "# Plot failure info\n",
    "print(list(set(ak.flatten(failures_track_crv12_[\"crv\"][\"crvcoincsmc.pdgId\"], axis=None))))\n",
    "\n",
    "particle_dict = {\n",
    "    -13: 'mu+',\n",
    "    13: 'mu-',\n",
    "    2212: 'proton',\n",
    "    -211: 'pi-',\n",
    "    -11: 'e+',\n",
    "    11: 'e-',\n",
    "    # \"other\": \"other\"\n",
    "    # Add more entries as needed\n",
    "}\n",
    "\n",
    "SimpleBarChart({\"No track cuts\" : len(failures_track_crv12_[\"evt\"][\"evtinfo.event\"]), \"Track cuts\" : len(failures_track_cuts_[\"evt\"][\"evtinfo.event\"]) }\n",
    "         , ylabel=\"Failures\", fout=f\"../Images/MDC2020ae/Failures/FouthPass/bar_failures.png\")\n",
    "\n",
    "\n",
    "BarChart(ak.flatten(failures_no_track_cuts_[\"crv\"][\"crvcoincsmc.pdgId\"], axis=None)\n",
    "         , label_dict=particle_dict, title=f\"No track cuts ({PEs} PEs/layer, {layers}/4 layers)\",  ylabel=\"Unique particle species / failure\", fout=f\"../Images/MDC2020ae/Failures/FouthPass/bar_pdgid_no_tracks.png\", percentage=False)\n",
    "\n",
    "BarChart(ak.flatten(failures_track_cuts_[\"crv\"][\"crvcoincsmc.pdgId\"], axis=None)\n",
    "         , label_dict=particle_dict, title=f\"Track cuts ({PEs} PEs/layer, {layers}/4 layers)\", ylabel=\"Unique particle species / failure\", fout=f\"../Images/MDC2020ae/Failures/FouthPass/bar_pdgid_track_cuts.png\", percentage=False)\n",
    "\n",
    "BarChartOverlay(data_=[ak.flatten(failures_no_track_cuts_[\"crv\"][\"crvcoincsmc.pdgId\"], axis=None), ak.flatten(failures_track_cuts_[\"crv\"][\"crvcoincsmc.pdgId\"], axis=None)]\n",
    "                , label_dict=particle_dict\n",
    "                , ylabel=\"Unique particle species / failure\"\n",
    "                , title=f\"{PEs} PEs/layer, {layers}/4 layers\"\n",
    "                , fout=f\"../Images/MDC2020ae/Failures/FouthPass/bar_pdgid_track_cuts_overlay.png\"\n",
    "                , percentage=False\n",
    "                , label_= [\"No track cuts\", \"Track cuts\"])\n",
    "\n",
    "\n",
    "Plot2D(x=ak.flatten(failures_no_track_cuts_[\"trkfit\"][\"klfit\"][\"pos\"][\"fCoordinates\"][\"fZ\"], axis=None)\n",
    "       , y=ak.flatten(failures_no_track_cuts_[\"trkfit\"][\"klfit\"][\"pos\"][\"fCoordinates\"][\"fX\"], axis=None)\n",
    "       , nbinsX=100, xmin=-8000, xmax=8000, nbinsY=100, ymin=-8000, ymax=8000\n",
    "       , title=\"No track cuts\", xlabel=\"KKInter Z [mm]\", ylabel=\"KKInter X [mm]\"\n",
    "       , fout=\"../Images/MDC2020ae/Failures/ThirdPass/h2_ZX_no_track_cuts.png\")\n",
    "\n",
    "Plot2D(x=ak.flatten(failures_no_track_cuts_[\"trkfit\"][\"klfit\"][\"pos\"][\"fCoordinates\"][\"fZ\"], axis=None)\n",
    "       , y=ak.flatten(failures_no_track_cuts_[\"trkfit\"][\"klfit\"][\"pos\"][\"fCoordinates\"][\"fY\"], axis=None)\n",
    "       , nbinsX=100, xmin=-8000, xmax=8000, nbinsY=100, ymin=0, ymax=6000\n",
    "       , title=\"No track cuts\", xlabel=\"KKInter Z [mm]\", ylabel=\"KKInter Y [mm]\"\n",
    "       , fout=\"../Images/MDC2020ae/Failures/ThirdPass/h2_ZY_no_track_cuts.png\")\n",
    "\n",
    "Plot2D(x=ak.flatten(failures_track_cuts_[\"trkfit\"][\"klfit\"][\"pos\"][\"fCoordinates\"][\"fZ\"], axis=None)\n",
    "       , y=ak.flatten(failures_track_cuts_[\"trkfit\"][\"klfit\"][\"pos\"][\"fCoordinates\"][\"fX\"], axis=None)\n",
    "       , nbinsX=100, xmin=-8000, xmax=8000, nbinsY=100, ymin=-8000, ymax=8000\n",
    "       , title=\"Track cuts\", xlabel=\"KKInter Z [mm]\", ylabel=\"KKInter X [mm]\"\n",
    "       , fout=\"../Images/MDC2020ae/Failures/ThirdPass/h2_ZX_track_cuts.png\")\n",
    "\n",
    "Plot2D(x=ak.flatten(failures_track_cuts_[\"trkfit\"][\"klfit\"][\"pos\"][\"fCoordinates\"][\"fZ\"], axis=None)\n",
    "       , y=ak.flatten(failures_track_cuts_[\"trkfit\"][\"klfit\"][\"pos\"][\"fCoordinates\"][\"fY\"], axis=None)\n",
    "       , nbinsX=100, xmin=-8000, xmax=8000, nbinsY=100, ymin=0, ymax=6000\n",
    "       , title=\"No track cuts\", xlabel=\"KKInter Z [mm]\", ylabel=\"KKInter Y [mm]\"\n",
    "       , fout=\"../Images/MDC2020ae/Failures/ThirdPass/h2_ZY_track_cuts.png\")"
   ]
  },
  {
   "cell_type": "code",
   "execution_count": null,
   "id": "d3b3a482-6029-4b38-8140-6923525ca8b6",
   "metadata": {},
   "outputs": [],
   "source": [
    "# # What is more interesting is those that pass the singles cut, but not the track cut.\n",
    "# # Although, this good be biased a bit because sometimes the track cuts generate an exception, while the singles do not!\n",
    "# # Need to ID a file where this doesn't happen. (See ../Scripts/FindGoodFiles.sh)\n",
    "# # 79 good files, written tags to ../Txt/MDC2020ae/GoodFiles/good_files.csv\n",
    "\n",
    "# goodFileTags_ = ReadFileList(\"../Txt/MDC2020ae/GoodFiles/good_files.csv\")\n",
    "\n",
    "# # Make a dataframe for singles and singles_track_cuts using these files. \n",
    "# def CollectGoodFiles(goodFileTags_, PEs=\"10\", layer=\"3\", particle=\"all\", cut=\"singles\"):\n",
    "#     baseDir=f\"../Txt/MDC2020ae/failures_concise\"\n",
    "#     data_ = pd.DataFrame()\n",
    "#     tasks = len(goodFileTags_)\n",
    "#     completedTasks = 1\n",
    "#     for i, goodFileTag in enumerate(goodFileTags_):\n",
    "#         if i == 0: continue # skip header\n",
    "#         goodFile = f\"{baseDir}/{goodFileTag}/failures_concise_{particle}_{PEs}PEs{layer}Layers_{cut}.csv\"\n",
    "#         thisData_ = pd.read_csv(goodFile)\n",
    "#         # Append data to the main DataFrame without resetting the index\n",
    "#         if thisData_ is not None: \n",
    "#             # Add the tag to the first column\n",
    "#             thisData_.insert(0, \"Tag\", goodFileTag)\n",
    "#             # Concatenate\n",
    "#             data_ = pd.concat([data_, thisData_], ignore_index=True)\n",
    "#         completedTasks += 1\n",
    "#         percentComplete = (completedTasks / tasks) * 100\n",
    "#         print(f\"\\r---> Processed {goodFileTag} ({percentComplete:.1f}% complete...)\", end=\"\") \n",
    "#     return data_\n",
    "\n",
    "# data_singles_ = CollectGoodFiles(goodFileTags_, PEs=10, cut=\"singles\")\n",
    "# data_singles_track_cuts_ = CollectGoodFiles(goodFileTags_, PEs=10, cut=\"singles_track_cuts\")\n",
    "\n",
    "# print(f\"\\n---> data_singles_:\\n{data_singles_}\")\n",
    "# print(f\"\\n---> data_singles_track_cuts_:\\n{data_singles_track_cuts_}\")"
   ]
  },
  {
   "cell_type": "code",
   "execution_count": null,
   "id": "6aa558ff-ca51-4696-9f37-8649638b0198",
   "metadata": {},
   "outputs": [],
   "source": [
    "# # Now find entries unique to singles_track_cuts_ \n",
    "# # Merge DataFrames with an left join to get rows unique to singles_\n",
    "# # I run the singles filter before the track cuts filter. \n",
    "# # This means that some events will pass the singles filter, and then be removed by the track cuts filter.\n",
    "# # These events are unique to singles. \n",
    "# # We can look at the in the event display to see what happens in these cases. \n",
    "\n",
    "# # We need events which pass the singles cut but are then removed by the track cuts. \n",
    "# # These are actually not present in any of the failure samples, because these just contain failures. \n",
    "# # Unfortunately I do not put any marker on the ones removed by the tracker cuts, I just through them out. \n",
    "\n",
    "# # Merge\n",
    "# data_merged_ = pd.merge(data_singles_, data_singles_track_cuts_, how=\"left\", indicator=True)\n",
    "# # Find unique to singles events\n",
    "# unique_to_singles_ = data_merged_[data_merged_['_merge'] == 'left_only']\n",
    "# # Drop the _merge column\n",
    "# unique_to_singles_ = unique_to_singles_.drop('_merge', axis=1)\n",
    "# print(unique_to_singles_)"
   ]
  },
  {
   "cell_type": "code",
   "execution_count": null,
   "id": "4ef6dd62-1b67-4125-b5c5-7aa3085d284a",
   "metadata": {},
   "outputs": [],
   "source": [
    "# Run it again?"
   ]
  }
 ],
 "metadata": {
  "kernelspec": {
   "display_name": "Mu2eEnv",
   "language": "python",
   "name": "mu2eenv"
  },
  "language_info": {
   "codemirror_mode": {
    "name": "ipython",
    "version": 3
   },
   "file_extension": ".py",
   "mimetype": "text/x-python",
   "name": "python",
   "nbconvert_exporter": "python",
   "pygments_lexer": "ipython3",
   "version": "3.10.14"
  }
 },
 "nbformat": 4,
 "nbformat_minor": 5
}
