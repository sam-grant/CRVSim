{
 "cells": [
  {
   "cell_type": "code",
   "execution_count": 1,
   "id": "f3d96d7c-77e4-4296-862a-922f01a53dae",
   "metadata": {},
   "outputs": [
    {
     "data": {
      "text/plain": [
       "'\\nSamuel Grant 2024\\n\\nRead failure events and make plots. \\n\\n'"
      ]
     },
     "execution_count": 1,
     "metadata": {},
     "output_type": "execute_result"
    }
   ],
   "source": [
    "'''\n",
    "Samuel Grant 2024\n",
    "\n",
    "Read failure events and make plots. \n",
    "\n",
    "Based on PlotFailures.py. Better suited to notebook (so we don't have to load the data each time). \n",
    "\n",
    "''' "
   ]
  },
  {
   "cell_type": "code",
   "execution_count": 23,
   "id": "b7453752-529d-451e-94ea-22db42c4716e",
   "metadata": {},
   "outputs": [],
   "source": [
    "# External libraries\n",
    "import numpy as np\n",
    "import pandas as pd\n",
    "import awkward as ak\n",
    "import uproot\n",
    "\n",
    "# Internal libraries\n",
    "sys.path.append(os.path.abspath(\"../PyMacros\"))\n",
    "import Utils as ut\n",
    "from Mu2eEAF import ReadData as rd "
   ]
  },
  {
   "cell_type": "code",
   "execution_count": 16,
   "id": "9fb411ed-5dfe-4bc3-ae2d-7dd07c28ebb3",
   "metadata": {},
   "outputs": [
    {
     "name": "stdout",
     "output_type": "stream",
     "text": [
      "---> 96 files in list.\n"
     ]
    }
   ],
   "source": [
    "# Get file list\n",
    "fileListPath=\"../Txt/FileLists/MDC2020aeOnExpData.txt\"\n",
    "def ReadFileList(fileListPath):\n",
    "  with open(fileListPath, \"r\") as fileList_:\n",
    "    lines = fileList_.readlines()\n",
    "    lines = [line.strip() for line in lines]  # Remove leading/trailing whitespace\n",
    "  return lines\n",
    "fileList_=ReadFileList(fileListPath)\n",
    "print(f\"---> {len(fileList_)} files in list.\")"
   ]
  },
  {
   "cell_type": "code",
   "execution_count": 68,
   "id": "7e29d151-7029-41f7-b1e0-75d3051a22a6",
   "metadata": {},
   "outputs": [],
   "source": [
    "'''\n",
    "Get failure info\n",
    "For each file, collect the events. \n",
    "\n",
    "This takes quite a while (2-3 minutes maybe).\n",
    "I spent a full day trying to multithread this, it blows up my memory. \n",
    "'''\n",
    "def GetFailures(fileList_, PEs=10, layers=\"3\", particle=\"all\", cut=\"singles\"):\n",
    "\n",
    "     # Collect failure info\n",
    "    failureFilePath = f\"../Txt/MDC2020ae/concatenated/failures_concise/failures_concise_all_{PEs}PEs{layers}Layers_{cut}.csv\"\n",
    "\n",
    "    print(f\"\\n---> Using info file {failureFilePath}.\")\n",
    "    failureInfo_ = pd.read_csv(failureFilePath)\n",
    "\n",
    "    # Collect file list\n",
    "    tags_ = list(set(failureInfo_[\"Tag\"]))\n",
    "    \n",
    "    # Extract the tag from the file name\n",
    "    def ExtractTag(fileName):\n",
    "        parts = fileName.split('.')\n",
    "        if len(parts) > 1:\n",
    "            return parts[-2]\n",
    "        return None\n",
    "\n",
    "    # Filter and sort files based on tags\n",
    "    fileList_ = sorted(\n",
    "        [file for file in fileList_ if ExtractTag(file) in tags_]\n",
    "        , key=lambda file: tags_.index(ExtractTag(file))\n",
    "    )\n",
    "\n",
    "    # testing\n",
    "    # tags_ = tags_[:1]\n",
    "    # fileList_ = fileList_[:1]\n",
    "    \n",
    "    # Bug check\n",
    "    if len(fileList_) == len(tags_):\n",
    "        print(\"\\n---> Collected and sorted failure file names.\")\n",
    "    else:\n",
    "        raise Exception(\"\\n---> len(fileList_) != len(tags_)\")\n",
    "\n",
    "    completedFiles = 0\n",
    "    totalFiles = len(fileList_)\n",
    "\n",
    "    print(f\"\\n---> Iterating through {len(fileList_)} files.\\n\") \n",
    "\n",
    "    # Master array to hold results\n",
    "    data_ = ak.Array([])\n",
    "    \n",
    "    # Iterate through file list.\n",
    "    for tag, fileName in zip(tags_, fileList_): \n",
    "    \n",
    "        # Find failure events\n",
    "        thisFailureInfo_ = failureInfo_[failureInfo_[\"Tag\"] == tag]\n",
    "        outputStr = ( \n",
    "            f\"\\n--->\\n\" \n",
    "            f\"fileName: {fileName}\\n\"\n",
    "            f\"tag: {tag}\\n\"\n",
    "            f\"failures:\\n{thisFailureInfo_}\\n\"\n",
    "            f\"---\"\n",
    "        )\n",
    "        if False: print(outputStr)\n",
    "    \n",
    "        # Read the file\n",
    "        with uproot.open(fileName) as file: \n",
    "            \n",
    "            # file = (fileName, quiet=True)\n",
    "            # Get array\n",
    "            thisData_ = ut.GetData(file)\n",
    "        \n",
    "            if False: print(f\"\\n---> Loaded corresponding data.\\n{thisData_}\")\n",
    "        \n",
    "            if False: print(f\"\\n---> Applying masks.\")\n",
    "        \n",
    "            # Extract unique values from DataFrame\n",
    "            runs_ = set(thisFailureInfo_[\"evtinfo.run\"])\n",
    "            subruns_ = set(thisFailureInfo_[\" evtinfo.subrun\"])\n",
    "            events_ = set(thisFailureInfo_[\" evtinfo.event\"])\n",
    "        \n",
    "            # Construct masks\n",
    "            runCondition = ak.any([thisData_[\"evt\"][\"evtinfo.run\"] == value for value in runs_], axis=0)\n",
    "            subrunCondition = ak.any([thisData_[\"evt\"][\"evtinfo.subrun\"] == value for value in subruns_], axis=0)\n",
    "            eventCondition = ak.any([thisData_[\"evt\"][\"evtinfo.event\"] == value for value in events_], axis=0)\n",
    "        \n",
    "            # Apply masks\n",
    "            thisData_ = thisData_[runCondition & subrunCondition & eventCondition]\n",
    "        \n",
    "            # Append to master array\n",
    "            if False: print(f\"\\n---> Appending failures to master array.\")\n",
    "            data_ = ak.concatenate([data_, thisData_], axis=0)\n",
    "\n",
    "            if False:\n",
    "                print(thisFailureInfo_)\n",
    "                ut.PrintNEvents(data_)\n",
    "    \n",
    "            completedFiles += 1\n",
    "            percentComplete = (completedFiles / totalFiles) * 100\n",
    "            \n",
    "            print(f\"\\r---> Processed {fileName} ({percentComplete:.1f}% complete...)\", end=\"\") \n",
    "\n",
    "    inputEventList = failureInfo_[\" evtinfo.event\"]\n",
    "    outputEventList = ak.flatten(data_[\"evt\"][\"evtinfo.event\"], axis=None)\n",
    "\n",
    "    return data_\n",
    "    \n",
    "    # # print(outputEventList)\n",
    "    # # ut.PrintNEvents(data_)\n",
    "\n",
    "    # if len(inputEventList) == len(outputEventList):\n",
    "    #     print(\"data_ contains the correct number of events!\")\n",
    "    #     print(\"Done!\")\n",
    "    #     print(len(inputEventList), len(outputEventList))\n",
    "    #     return data_\n",
    "    # else:\n",
    "    #     raise ValueError(f\"data_ contains the wrong number of events! {len(outputEventList)} compared with {len(inputEventList)}.\")"
   ]
  },
  {
   "cell_type": "code",
   "execution_count": 21,
   "id": "95ec887c-9668-4cec-8c62-26a12f3b99eb",
   "metadata": {},
   "outputs": [],
   "source": [
    "# Parameters\n",
    "PEs=10\n",
    "layers=\"3\"\n",
    "particle=\"all\""
   ]
  },
  {
   "cell_type": "code",
   "execution_count": 69,
   "id": "c2e2ab39-1cb2-4233-a89e-31fa8a1e0c4c",
   "metadata": {},
   "outputs": [
    {
     "name": "stdout",
     "output_type": "stream",
     "text": [
      "\n",
      "---> Using info file ../Txt/MDC2020ae/concatenated/failures_concise/failures_concise_all_10PEs3Layers_singles.csv.\n",
      "\n",
      "---> Collected and sorted failure file names.\n",
      "\n",
      "---> Iterating through 36 files.\n",
      "\n",
      "---> Processed /exp/mu2e/data/users/sgrant/CRVSim/CosmicCRYExtractedCatTriggered.MDC2020ae_best_v1_3.000/11946817/00/00058/nts.sgrant.CosmicCRYExtractedCatTriggered.MDC2020ae_best_v1_3.001205_00000025.root (100.0% complete...)"
     ]
    }
   ],
   "source": [
    "data_singles_ = GetFailures(fileList_, cut=\"singles\")"
   ]
  },
  {
   "cell_type": "code",
   "execution_count": 71,
   "id": "5ce459e1-fd79-4988-ac2c-3dc0b027cff0",
   "metadata": {},
   "outputs": [
    {
     "name": "stdout",
     "output_type": "stream",
     "text": [
      "-------------------------------------------------------------------------------------\n",
      "***** evt *****\n",
      "evtinfo.run: 1205\n",
      "evtinfo.subrun: 7468\n",
      "evtinfo.eventid: 384774\n",
      "***** crv *****\n",
      "crvcoincs.sectorType: [2, 3]\n",
      "crvcoincs.nLayers [2, 4]\n",
      "crvcoincs.angle: [-0.521, -0.431]\n",
      "crvcoincs.pos.fCoordinates: ([-768, -535], [4.64e+03, 4.91e+03], [-437, -727])\n",
      "crvcoincs.timeStart: [4.46e+04, 4.46e+04]\n",
      "crvcoincs.time: [4.46e+04, 4.46e+04]\n",
      "crvcoincs.PEs: [130, 767]\n",
      "crvcoincs.PEsPerLayer[4]: [[0, 51.3, 0, 78.6], [351, 149, 133, 135]]\n",
      "crvcoincs.nHits: [6, 20]\n",
      "crvcoincsmc.pdgId: [-11, -11]\n",
      "crvcoincsmc.valid: [True, True]\n",
      "***** trk *****\n",
      "kl.status: [1]\n",
      "kl.nactive: [9]\n",
      "kl.nhits: [11]\n",
      "kl.nplanes: [2]\n",
      "kl.nnullambig: [4]\n",
      "kl.ndof: [13]\n",
      "kl.kl.fitcon: [0.657]\n",
      "***** trkfit *****\n",
      "klfit: [[{mom: {fCoordinates: {...}}, pos: {...}, time: 4.46e+04, ...}, ..., {...}]]\n",
      "klfit.sid: [[0, 2, 4, 4, 200, 200, 200]]\n",
      "klfit.sindex: [[0, 0, 0, 0, 0, 1, 2]]\n",
      "klkl: [[{d0: -545, phi0: -1.87, z0: 1.47e+03, theta: 1.24, mom: 2e+03, ...}, ...]]\n",
      "klkl.z0err: [[2.31, 2.31, 2.31, 2.31, 2.31, 2.31, 2.31]]\n",
      "klkl.d0err: [[0.183, 0.183, 0.183, 0.183, 0.183, 0.183, 0.183]]\n",
      "klkl.thetaerr: [[0.0031, 0.0031, 0.0031, 0.0031, 0.0031, 0.0031, 0.0031]]\n",
      "klkl.phi0err: [[0.0168, 0.0168, 0.0168, 0.0168, 0.0168, 0.0168, 0.0168]]\n",
      "-------------------------------------------------------------------------------------\n",
      "\n"
     ]
    }
   ],
   "source": [
    "ut.PrintNEvents(data_singles_, 1)"
   ]
  },
  {
   "cell_type": "code",
   "execution_count": 72,
   "id": "0cae004c-4373-4c97-8192-284457beb87f",
   "metadata": {},
   "outputs": [
    {
     "name": "stdout",
     "output_type": "stream",
     "text": [
      "\n",
      "---> Using info file ../Txt/MDC2020ae/concatenated/failures_concise/failures_concise_all_10PEs3Layers_singles_track_cuts.csv.\n",
      "\n",
      "---> Collected and sorted failure file names.\n",
      "\n",
      "---> Iterating through 9 files.\n",
      "\n",
      "---> Processed /exp/mu2e/data/users/sgrant/CRVSim/CosmicCRYExtractedCatTriggered.MDC2020ae_best_v1_3.000/11946817/00/00034/nts.sgrant.CosmicCRYExtractedCatTriggered.MDC2020ae_best_v1_3.001205_00000051.root (100.0% complete...)"
     ]
    }
   ],
   "source": [
    "data_singles_track_cuts_ = GetFailures(fileList_, cut=\"singles_track_cuts\")"
   ]
  },
  {
   "cell_type": "code",
   "execution_count": 73,
   "id": "193a2156-57bd-4969-b05f-72ae12b37a4b",
   "metadata": {},
   "outputs": [
    {
     "name": "stdout",
     "output_type": "stream",
     "text": [
      "-------------------------------------------------------------------------------------\n",
      "***** evt *****\n",
      "evtinfo.run: 1205\n",
      "evtinfo.subrun: 5349\n",
      "evtinfo.eventid: 183839\n",
      "***** crv *****\n",
      "crvcoincs.sectorType: [2, 3]\n",
      "crvcoincs.nLayers [2, 2]\n",
      "crvcoincs.angle: [0, 0.334]\n",
      "crvcoincs.pos.fCoordinates: ([749, 1.19e+03], [4.63e+03, 4.96e+03], [-437, -230])\n",
      "crvcoincs.timeStart: [7.88e+04, 7.88e+04]\n",
      "crvcoincs.time: [7.88e+04, 7.88e+04]\n",
      "crvcoincs.PEs: [164, 275]\n",
      "crvcoincs.PEsPerLayer[4]: [[0, 61, 103, 0], [0, 0, 105, 170]]\n",
      "crvcoincs.nHits: [4, 8]\n",
      "crvcoincsmc.pdgId: [11, 11]\n",
      "crvcoincsmc.valid: [True, True]\n",
      "***** trk *****\n",
      "kl.status: [1]\n",
      "kl.nactive: [16]\n",
      "kl.nhits: [16]\n",
      "kl.nplanes: [4]\n",
      "kl.nnullambig: [2]\n",
      "kl.ndof: [27]\n",
      "kl.kl.fitcon: [0.425]\n",
      "***** trkfit *****\n",
      "klfit: [[{mom: {fCoordinates: {...}}, pos: {...}, time: 7.88e+04, ...}, ..., {...}]]\n",
      "klfit.sid: [[0, 2, 4, 4, 200, 200, 200]]\n",
      "klfit.sindex: [[0, 0, 0, 0, 0, 1, 2]]\n",
      "klkl: [[{d0: 239, phi0: -2.57, z0: 860, theta: 1.11, mom: 2e+03, t0: ..., ...}, ...]]\n",
      "klkl.z0err: [[0.137, 0.183, 0.137, 0.183, 0.137, 0.137, 0.137]]\n",
      "klkl.d0err: [[0.268, 0.286, 0.268, 0.286, 0.268, 0.268, 0.268]]\n",
      "klkl.thetaerr: [[0.000233, 0.000261, 0.000233, 0.000261, 0.000233, 0.000233, 0.000233]]\n",
      "klkl.phi0err: [[0.000534, 0.000561, 0.000534, 0.000561, 0.000534, 0.000534, 0.000534]]\n",
      "-------------------------------------------------------------------------------------\n",
      "\n"
     ]
    }
   ],
   "source": [
    "ut.PrintNEvents(data_singles_track_cuts_, 1)"
   ]
  },
  {
   "cell_type": "code",
   "execution_count": null,
   "id": "16aeae7a-d4d7-40e4-9153-43c709f01360",
   "metadata": {},
   "outputs": [],
   "source": [
    "# Now we have the failure data...\n",
    "# Plot it here..."
   ]
  },
  {
   "cell_type": "code",
   "execution_count": 75,
   "id": "d3b3a482-6029-4b38-8140-6923525ca8b6",
   "metadata": {},
   "outputs": [
    {
     "name": "stdout",
     "output_type": "stream",
     "text": [
      "['/exp/mu2e/data/users/sgrant/CRVSim/CosmicCRYExtractedCatTriggered.MDC2020ae_best_v1_3.000/11946817/00/00033/nts.sgrant.CosmicCRYExtractedCatTriggered.MDC2020ae_best_v1_3.001205_00000080.root', '/exp/mu2e/data/users/sgrant/CRVSim/CosmicCRYExtractedCatTriggered.MDC2020ae_best_v1_3.000/11946817/00/00094/nts.sgrant.CosmicCRYExtractedCatTriggered.MDC2020ae_best_v1_3.001205_00000048.root', '/exp/mu2e/data/users/sgrant/CRVSim/CosmicCRYExtractedCatTriggered.MDC2020ae_best_v1_3.000/11946817/00/00034/nts.sgrant.CosmicCRYExtractedCatTriggered.MDC2020ae_best_v1_3.001205_00000051.root', '/exp/mu2e/data/users/sgrant/CRVSim/CosmicCRYExtractedCatTriggered.MDC2020ae_best_v1_3.000/11946817/00/00061/nts.sgrant.CosmicCRYExtractedCatTriggered.MDC2020ae_best_v1_3.001205_00000056.root', '/exp/mu2e/data/users/sgrant/CRVSim/CosmicCRYExtractedCatTriggered.MDC2020ae_best_v1_3.000/11946817/00/00050/nts.sgrant.CosmicCRYExtractedCatTriggered.MDC2020ae_best_v1_3.001205_00000035.root', '/exp/mu2e/data/users/sgrant/CRVSim/CosmicCRYExtractedCatTriggered.MDC2020ae_best_v1_3.000/11946817/00/00072/nts.sgrant.CosmicCRYExtractedCatTriggered.MDC2020ae_best_v1_3.001205_00000121.root', '/exp/mu2e/data/users/sgrant/CRVSim/CosmicCRYExtractedCatTriggered.MDC2020ae_best_v1_3.000/11946817/00/00030/nts.sgrant.CosmicCRYExtractedCatTriggered.MDC2020ae_best_v1_3.001205_00000117.root', '/exp/mu2e/data/users/sgrant/CRVSim/CosmicCRYExtractedCatTriggered.MDC2020ae_best_v1_3.000/11946817/00/00070/nts.sgrant.CosmicCRYExtractedCatTriggered.MDC2020ae_best_v1_3.001205_00000321.root', '/exp/mu2e/data/users/sgrant/CRVSim/CosmicCRYExtractedCatTriggered.MDC2020ae_best_v1_3.000/11946817/00/00084/nts.sgrant.CosmicCRYExtractedCatTriggered.MDC2020ae_best_v1_3.001205_00000118.root', '/exp/mu2e/data/users/sgrant/CRVSim/CosmicCRYExtractedCatTriggered.MDC2020ae_best_v1_3.000/11946817/00/00077/nts.sgrant.CosmicCRYExtractedCatTriggered.MDC2020ae_best_v1_3.001205_00000052.root', '/exp/mu2e/data/users/sgrant/CRVSim/CosmicCRYExtractedCatTriggered.MDC2020ae_best_v1_3.000/11946817/00/00086/nts.sgrant.CosmicCRYExtractedCatTriggered.MDC2020ae_best_v1_3.001205_00000040.root', '/exp/mu2e/data/users/sgrant/CRVSim/CosmicCRYExtractedCatTriggered.MDC2020ae_best_v1_3.000/11946817/00/00092/nts.sgrant.CosmicCRYExtractedCatTriggered.MDC2020ae_best_v1_3.001205_00000231.root', '/exp/mu2e/data/users/sgrant/CRVSim/CosmicCRYExtractedCatTriggered.MDC2020ae_best_v1_3.000/11946817/00/00090/nts.sgrant.CosmicCRYExtractedCatTriggered.MDC2020ae_best_v1_3.001205_00000069.root', '/exp/mu2e/data/users/sgrant/CRVSim/CosmicCRYExtractedCatTriggered.MDC2020ae_best_v1_3.000/11946817/00/00082/nts.sgrant.CosmicCRYExtractedCatTriggered.MDC2020ae_best_v1_3.001205_00000064.root', '/exp/mu2e/data/users/sgrant/CRVSim/CosmicCRYExtractedCatTriggered.MDC2020ae_best_v1_3.000/11946817/00/00078/nts.sgrant.CosmicCRYExtractedCatTriggered.MDC2020ae_best_v1_3.001205_00000145.root', '/exp/mu2e/data/users/sgrant/CRVSim/CosmicCRYExtractedCatTriggered.MDC2020ae_best_v1_3.000/11946817/00/00065/nts.sgrant.CosmicCRYExtractedCatTriggered.MDC2020ae_best_v1_3.001205_00000228.root', '/exp/mu2e/data/users/sgrant/CRVSim/CosmicCRYExtractedCatTriggered.MDC2020ae_best_v1_3.000/11946817/00/00045/nts.sgrant.CosmicCRYExtractedCatTriggered.MDC2020ae_best_v1_3.001205_00000554.root', '/exp/mu2e/data/users/sgrant/CRVSim/CosmicCRYExtractedCatTriggered.MDC2020ae_best_v1_3.000/11946817/00/00073/nts.sgrant.CosmicCRYExtractedCatTriggered.MDC2020ae_best_v1_3.001205_00000037.root', '/exp/mu2e/data/users/sgrant/CRVSim/CosmicCRYExtractedCatTriggered.MDC2020ae_best_v1_3.000/11946817/00/00091/nts.sgrant.CosmicCRYExtractedCatTriggered.MDC2020ae_best_v1_3.001205_00000110.root', '/exp/mu2e/data/users/sgrant/CRVSim/CosmicCRYExtractedCatTriggered.MDC2020ae_best_v1_3.000/11946817/00/00059/nts.sgrant.CosmicCRYExtractedCatTriggered.MDC2020ae_best_v1_3.001205_00000157.root', '/exp/mu2e/data/users/sgrant/CRVSim/CosmicCRYExtractedCatTriggered.MDC2020ae_best_v1_3.000/11946817/00/00063/nts.sgrant.CosmicCRYExtractedCatTriggered.MDC2020ae_best_v1_3.001205_00000032.root', '/exp/mu2e/data/users/sgrant/CRVSim/CosmicCRYExtractedCatTriggered.MDC2020ae_best_v1_3.000/11946817/00/00043/nts.sgrant.CosmicCRYExtractedCatTriggered.MDC2020ae_best_v1_3.001205_00000059.root', '/exp/mu2e/data/users/sgrant/CRVSim/CosmicCRYExtractedCatTriggered.MDC2020ae_best_v1_3.000/11946817/00/00049/nts.sgrant.CosmicCRYExtractedCatTriggered.MDC2020ae_best_v1_3.001205_00000099.root', '/exp/mu2e/data/users/sgrant/CRVSim/CosmicCRYExtractedCatTriggered.MDC2020ae_best_v1_3.000/11946817/00/00028/nts.sgrant.CosmicCRYExtractedCatTriggered.MDC2020ae_best_v1_3.001205_00000030.root', '/exp/mu2e/data/users/sgrant/CRVSim/CosmicCRYExtractedCatTriggered.MDC2020ae_best_v1_3.000/11946817/00/00013/nts.sgrant.CosmicCRYExtractedCatTriggered.MDC2020ae_best_v1_3.001205_00000098.root', '/exp/mu2e/data/users/sgrant/CRVSim/CosmicCRYExtractedCatTriggered.MDC2020ae_best_v1_3.000/11946817/00/00040/nts.sgrant.CosmicCRYExtractedCatTriggered.MDC2020ae_best_v1_3.001205_00000083.root', '/exp/mu2e/data/users/sgrant/CRVSim/CosmicCRYExtractedCatTriggered.MDC2020ae_best_v1_3.000/11946817/00/00085/nts.sgrant.CosmicCRYExtractedCatTriggered.MDC2020ae_best_v1_3.001205_00000009.root', '/exp/mu2e/data/users/sgrant/CRVSim/CosmicCRYExtractedCatTriggered.MDC2020ae_best_v1_3.000/11946817/00/00067/nts.sgrant.CosmicCRYExtractedCatTriggered.MDC2020ae_best_v1_3.001205_00000180.root', '/exp/mu2e/data/users/sgrant/CRVSim/CosmicCRYExtractedCatTriggered.MDC2020ae_best_v1_3.000/11946817/00/00026/nts.sgrant.CosmicCRYExtractedCatTriggered.MDC2020ae_best_v1_3.001205_00000144.root', '/exp/mu2e/data/users/sgrant/CRVSim/CosmicCRYExtractedCatTriggered.MDC2020ae_best_v1_3.000/11946817/00/00075/nts.sgrant.CosmicCRYExtractedCatTriggered.MDC2020ae_best_v1_3.001205_00000089.root', '/exp/mu2e/data/users/sgrant/CRVSim/CosmicCRYExtractedCatTriggered.MDC2020ae_best_v1_3.000/11946817/00/00062/nts.sgrant.CosmicCRYExtractedCatTriggered.MDC2020ae_best_v1_3.001205_00000130.root', '/exp/mu2e/data/users/sgrant/CRVSim/CosmicCRYExtractedCatTriggered.MDC2020ae_best_v1_3.000/11946817/00/00093/nts.sgrant.CosmicCRYExtractedCatTriggered.MDC2020ae_best_v1_3.001205_00000176.root', '/exp/mu2e/data/users/sgrant/CRVSim/CosmicCRYExtractedCatTriggered.MDC2020ae_best_v1_3.000/11946817/00/00088/nts.sgrant.CosmicCRYExtractedCatTriggered.MDC2020ae_best_v1_3.001205_00000076.root', '/exp/mu2e/data/users/sgrant/CRVSim/CosmicCRYExtractedCatTriggered.MDC2020ae_best_v1_3.000/11946817/00/00060/nts.sgrant.CosmicCRYExtractedCatTriggered.MDC2020ae_best_v1_3.001205_00000136.root', '/exp/mu2e/data/users/sgrant/CRVSim/CosmicCRYExtractedCatTriggered.MDC2020ae_best_v1_3.000/11946817/00/00074/nts.sgrant.CosmicCRYExtractedCatTriggered.MDC2020ae_best_v1_3.001205_00000005.root', '/exp/mu2e/data/users/sgrant/CRVSim/CosmicCRYExtractedCatTriggered.MDC2020ae_best_v1_3.000/11946817/00/00017/nts.sgrant.CosmicCRYExtractedCatTriggered.MDC2020ae_best_v1_3.001205_00000049.root', '/exp/mu2e/data/users/sgrant/CRVSim/CosmicCRYExtractedCatTriggered.MDC2020ae_best_v1_3.000/11946817/00/00076/nts.sgrant.CosmicCRYExtractedCatTriggered.MDC2020ae_best_v1_3.001205_00000178.root', '/exp/mu2e/data/users/sgrant/CRVSim/CosmicCRYExtractedCatTriggered.MDC2020ae_best_v1_3.000/11946817/00/00081/nts.sgrant.CosmicCRYExtractedCatTriggered.MDC2020ae_best_v1_3.001205_00000011.root', '/exp/mu2e/data/users/sgrant/CRVSim/CosmicCRYExtractedCatTriggered.MDC2020ae_best_v1_3.000/11946817/00/00023/nts.sgrant.CosmicCRYExtractedCatTriggered.MDC2020ae_best_v1_3.001205_00000000.root', '/exp/mu2e/data/users/sgrant/CRVSim/CosmicCRYExtractedCatTriggered.MDC2020ae_best_v1_3.000/11946817/00/00036/nts.sgrant.CosmicCRYExtractedCatTriggered.MDC2020ae_best_v1_3.001205_00000001.root', '/exp/mu2e/data/users/sgrant/CRVSim/CosmicCRYExtractedCatTriggered.MDC2020ae_best_v1_3.000/11946817/00/00066/nts.sgrant.CosmicCRYExtractedCatTriggered.MDC2020ae_best_v1_3.001205_00000082.root', '/exp/mu2e/data/users/sgrant/CRVSim/CosmicCRYExtractedCatTriggered.MDC2020ae_best_v1_3.000/11946817/00/00021/nts.sgrant.CosmicCRYExtractedCatTriggered.MDC2020ae_best_v1_3.001205_00000544.root', '/exp/mu2e/data/users/sgrant/CRVSim/CosmicCRYExtractedCatTriggered.MDC2020ae_best_v1_3.000/11946817/00/00005/nts.sgrant.CosmicCRYExtractedCatTriggered.MDC2020ae_best_v1_3.001205_00000036.root', '/exp/mu2e/data/users/sgrant/CRVSim/CosmicCRYExtractedCatTriggered.MDC2020ae_best_v1_3.000/11946817/00/00089/nts.sgrant.CosmicCRYExtractedCatTriggered.MDC2020ae_best_v1_3.001205_00000015.root', '/exp/mu2e/data/users/sgrant/CRVSim/CosmicCRYExtractedCatTriggered.MDC2020ae_best_v1_3.000/11946817/00/00083/nts.sgrant.CosmicCRYExtractedCatTriggered.MDC2020ae_best_v1_3.001205_00000073.root', '/exp/mu2e/data/users/sgrant/CRVSim/CosmicCRYExtractedCatTriggered.MDC2020ae_best_v1_3.000/11946817/00/00064/nts.sgrant.CosmicCRYExtractedCatTriggered.MDC2020ae_best_v1_3.001205_00000210.root', '/exp/mu2e/data/users/sgrant/CRVSim/CosmicCRYExtractedCatTriggered.MDC2020ae_best_v1_3.000/11946817/00/00056/nts.sgrant.CosmicCRYExtractedCatTriggered.MDC2020ae_best_v1_3.001205_00000024.root', '/exp/mu2e/data/users/sgrant/CRVSim/CosmicCRYExtractedCatTriggered.MDC2020ae_best_v1_3.000/11946817/00/00020/nts.sgrant.CosmicCRYExtractedCatTriggered.MDC2020ae_best_v1_3.001205_00000050.root', '/exp/mu2e/data/users/sgrant/CRVSim/CosmicCRYExtractedCatTriggered.MDC2020ae_best_v1_3.000/11946817/00/00087/nts.sgrant.CosmicCRYExtractedCatTriggered.MDC2020ae_best_v1_3.001205_00000072.root', '/exp/mu2e/data/users/sgrant/CRVSim/CosmicCRYExtractedCatTriggered.MDC2020ae_best_v1_3.000/11946817/00/00000/nts.sgrant.CosmicCRYExtractedCatTriggered.MDC2020ae_best_v1_3.001205_00000214.root', '/exp/mu2e/data/users/sgrant/CRVSim/CosmicCRYExtractedCatTriggered.MDC2020ae_best_v1_3.000/11946817/00/00058/nts.sgrant.CosmicCRYExtractedCatTriggered.MDC2020ae_best_v1_3.001205_00000025.root', '/exp/mu2e/data/users/sgrant/CRVSim/CosmicCRYExtractedCatTriggered.MDC2020ae_best_v1_3.000/11946817/00/00014/nts.sgrant.CosmicCRYExtractedCatTriggered.MDC2020ae_best_v1_3.001205_00000120.root', '/exp/mu2e/data/users/sgrant/CRVSim/CosmicCRYExtractedCatTriggered.MDC2020ae_best_v1_3.000/11946817/00/00012/nts.sgrant.CosmicCRYExtractedCatTriggered.MDC2020ae_best_v1_3.001205_00000066.root', '/exp/mu2e/data/users/sgrant/CRVSim/CosmicCRYExtractedCatTriggered.MDC2020ae_best_v1_3.000/11946817/00/00039/nts.sgrant.CosmicCRYExtractedCatTriggered.MDC2020ae_best_v1_3.001205_00000150.root', '/exp/mu2e/data/users/sgrant/CRVSim/CosmicCRYExtractedCatTriggered.MDC2020ae_best_v1_3.000/11946817/00/00006/nts.sgrant.CosmicCRYExtractedCatTriggered.MDC2020ae_best_v1_3.001205_00000054.root', '/exp/mu2e/data/users/sgrant/CRVSim/CosmicCRYExtractedCatTriggered.MDC2020ae_best_v1_3.000/11946817/00/00048/nts.sgrant.CosmicCRYExtractedCatTriggered.MDC2020ae_best_v1_3.001205_00000151.root', '/exp/mu2e/data/users/sgrant/CRVSim/CosmicCRYExtractedCatTriggered.MDC2020ae_best_v1_3.000/11946817/00/00044/nts.sgrant.CosmicCRYExtractedCatTriggered.MDC2020ae_best_v1_3.001205_00000160.root', '/exp/mu2e/data/users/sgrant/CRVSim/CosmicCRYExtractedCatTriggered.MDC2020ae_best_v1_3.000/11946817/00/00071/nts.sgrant.CosmicCRYExtractedCatTriggered.MDC2020ae_best_v1_3.001205_00000074.root', '/exp/mu2e/data/users/sgrant/CRVSim/CosmicCRYExtractedCatTriggered.MDC2020ae_best_v1_3.000/11946817/00/00038/nts.sgrant.CosmicCRYExtractedCatTriggered.MDC2020ae_best_v1_3.001205_00000006.root', '/exp/mu2e/data/users/sgrant/CRVSim/CosmicCRYExtractedCatTriggered.MDC2020ae_best_v1_3.000/11946817/00/00053/nts.sgrant.CosmicCRYExtractedCatTriggered.MDC2020ae_best_v1_3.001205_00000013.root', '/exp/mu2e/data/users/sgrant/CRVSim/CosmicCRYExtractedCatTriggered.MDC2020ae_best_v1_3.000/11946817/00/00055/nts.sgrant.CosmicCRYExtractedCatTriggered.MDC2020ae_best_v1_3.001205_00000057.root', '/exp/mu2e/data/users/sgrant/CRVSim/CosmicCRYExtractedCatTriggered.MDC2020ae_best_v1_3.000/11946817/00/00022/nts.sgrant.CosmicCRYExtractedCatTriggered.MDC2020ae_best_v1_3.001205_00000018.root', '/exp/mu2e/data/users/sgrant/CRVSim/CosmicCRYExtractedCatTriggered.MDC2020ae_best_v1_3.000/11946817/00/00019/nts.sgrant.CosmicCRYExtractedCatTriggered.MDC2020ae_best_v1_3.001205_00000191.root', '/exp/mu2e/data/users/sgrant/CRVSim/CosmicCRYExtractedCatTriggered.MDC2020ae_best_v1_3.000/11946817/00/00035/nts.sgrant.CosmicCRYExtractedCatTriggered.MDC2020ae_best_v1_3.001205_00000027.root', '/exp/mu2e/data/users/sgrant/CRVSim/CosmicCRYExtractedCatTriggered.MDC2020ae_best_v1_3.000/11946817/00/00047/nts.sgrant.CosmicCRYExtractedCatTriggered.MDC2020ae_best_v1_3.001205_00000116.root', '/exp/mu2e/data/users/sgrant/CRVSim/CosmicCRYExtractedCatTriggered.MDC2020ae_best_v1_3.000/11946817/00/00069/nts.sgrant.CosmicCRYExtractedCatTriggered.MDC2020ae_best_v1_3.001205_00000020.root', '/exp/mu2e/data/users/sgrant/CRVSim/CosmicCRYExtractedCatTriggered.MDC2020ae_best_v1_3.000/11946817/00/00015/nts.sgrant.CosmicCRYExtractedCatTriggered.MDC2020ae_best_v1_3.001205_00000103.root', '/exp/mu2e/data/users/sgrant/CRVSim/CosmicCRYExtractedCatTriggered.MDC2020ae_best_v1_3.000/11946817/00/00054/nts.sgrant.CosmicCRYExtractedCatTriggered.MDC2020ae_best_v1_3.001205_00000129.root', '/exp/mu2e/data/users/sgrant/CRVSim/CosmicCRYExtractedCatTriggered.MDC2020ae_best_v1_3.000/11946817/00/00042/nts.sgrant.CosmicCRYExtractedCatTriggered.MDC2020ae_best_v1_3.001205_00000108.root', '/exp/mu2e/data/users/sgrant/CRVSim/CosmicCRYExtractedCatTriggered.MDC2020ae_best_v1_3.000/11946817/00/00010/nts.sgrant.CosmicCRYExtractedCatTriggered.MDC2020ae_best_v1_3.001205_00000097.root', '/exp/mu2e/data/users/sgrant/CRVSim/CosmicCRYExtractedCatTriggered.MDC2020ae_best_v1_3.000/11946817/00/00003/nts.sgrant.CosmicCRYExtractedCatTriggered.MDC2020ae_best_v1_3.001205_00000230.root', '/exp/mu2e/data/users/sgrant/CRVSim/CosmicCRYExtractedCatTriggered.MDC2020ae_best_v1_3.000/11946817/00/00051/nts.sgrant.CosmicCRYExtractedCatTriggered.MDC2020ae_best_v1_3.001205_00000012.root', '/exp/mu2e/data/users/sgrant/CRVSim/CosmicCRYExtractedCatTriggered.MDC2020ae_best_v1_3.000/11946817/00/00016/nts.sgrant.CosmicCRYExtractedCatTriggered.MDC2020ae_best_v1_3.001205_00000017.root', '/exp/mu2e/data/users/sgrant/CRVSim/CosmicCRYExtractedCatTriggered.MDC2020ae_best_v1_3.000/11946817/00/00001/nts.sgrant.CosmicCRYExtractedCatTriggered.MDC2020ae_best_v1_3.001205_00000007.root', '/exp/mu2e/data/users/sgrant/CRVSim/CosmicCRYExtractedCatTriggered.MDC2020ae_best_v1_3.000/11946817/00/00018/nts.sgrant.CosmicCRYExtractedCatTriggered.MDC2020ae_best_v1_3.001205_00000181.root', '/exp/mu2e/data/users/sgrant/CRVSim/CosmicCRYExtractedCatTriggered.MDC2020ae_best_v1_3.000/11946817/00/00011/nts.sgrant.CosmicCRYExtractedCatTriggered.MDC2020ae_best_v1_3.001205_00000243.root', '/exp/mu2e/data/users/sgrant/CRVSim/CosmicCRYExtractedCatTriggered.MDC2020ae_best_v1_3.000/11946817/00/00027/nts.sgrant.CosmicCRYExtractedCatTriggered.MDC2020ae_best_v1_3.001205_00000184.root', '/exp/mu2e/data/users/sgrant/CRVSim/CosmicCRYExtractedCatTriggered.MDC2020ae_best_v1_3.000/11946817/00/00037/nts.sgrant.CosmicCRYExtractedCatTriggered.MDC2020ae_best_v1_3.001205_00000216.root', '/exp/mu2e/data/users/sgrant/CRVSim/CosmicCRYExtractedCatTriggered.MDC2020ae_best_v1_3.000/11946817/00/00068/nts.sgrant.CosmicCRYExtractedCatTriggered.MDC2020ae_best_v1_3.001205_00000078.root', '/exp/mu2e/data/users/sgrant/CRVSim/CosmicCRYExtractedCatTriggered.MDC2020ae_best_v1_3.000/11946817/00/00029/nts.sgrant.CosmicCRYExtractedCatTriggered.MDC2020ae_best_v1_3.001205_00000171.root', '/exp/mu2e/data/users/sgrant/CRVSim/CosmicCRYExtractedCatTriggered.MDC2020ae_best_v1_3.000/11946817/00/00031/nts.sgrant.CosmicCRYExtractedCatTriggered.MDC2020ae_best_v1_3.001205_00000101.root', '/exp/mu2e/data/users/sgrant/CRVSim/CosmicCRYExtractedCatTriggered.MDC2020ae_best_v1_3.000/11946817/00/00032/nts.sgrant.CosmicCRYExtractedCatTriggered.MDC2020ae_best_v1_3.001205_00000034.root', '/exp/mu2e/data/users/sgrant/CRVSim/CosmicCRYExtractedCatTriggered.MDC2020ae_best_v1_3.000/11946817/00/00046/nts.sgrant.CosmicCRYExtractedCatTriggered.MDC2020ae_best_v1_3.001205_00000044.root', '/exp/mu2e/data/users/sgrant/CRVSim/CosmicCRYExtractedCatTriggered.MDC2020ae_best_v1_3.000/11946817/00/00008/nts.sgrant.CosmicCRYExtractedCatTriggered.MDC2020ae_best_v1_3.001205_00000094.root', '/exp/mu2e/data/users/sgrant/CRVSim/CosmicCRYExtractedCatTriggered.MDC2020ae_best_v1_3.000/11946817/00/00057/nts.sgrant.CosmicCRYExtractedCatTriggered.MDC2020ae_best_v1_3.001205_00000026.root', '/exp/mu2e/data/users/sgrant/CRVSim/CosmicCRYExtractedCatTriggered.MDC2020ae_best_v1_3.000/11946817/00/00025/nts.sgrant.CosmicCRYExtractedCatTriggered.MDC2020ae_best_v1_3.001205_00000002.root', '/exp/mu2e/data/users/sgrant/CRVSim/CosmicCRYExtractedCatTriggered.MDC2020ae_best_v1_3.000/11946817/00/00009/nts.sgrant.CosmicCRYExtractedCatTriggered.MDC2020ae_best_v1_3.001205_00000062.root', '/exp/mu2e/data/users/sgrant/CRVSim/CosmicCRYExtractedCatTriggered.MDC2020ae_best_v1_3.000/11946817/00/00004/nts.sgrant.CosmicCRYExtractedCatTriggered.MDC2020ae_best_v1_3.001205_00000042.root', '/exp/mu2e/data/users/sgrant/CRVSim/CosmicCRYExtractedCatTriggered.MDC2020ae_best_v1_3.000/11946817/00/00024/nts.sgrant.CosmicCRYExtractedCatTriggered.MDC2020ae_best_v1_3.001205_00000016.root', '/exp/mu2e/data/users/sgrant/CRVSim/CosmicCRYExtractedCatTriggered.MDC2020ae_best_v1_3.000/11946817/00/00079/nts.sgrant.CosmicCRYExtractedCatTriggered.MDC2020ae_best_v1_3.001205_00000039.root', '/exp/mu2e/data/users/sgrant/CRVSim/CosmicCRYExtractedCatTriggered.MDC2020ae_best_v1_3.000/11946817/00/00041/nts.sgrant.CosmicCRYExtractedCatTriggered.MDC2020ae_best_v1_3.001205_00000031.root', '/exp/mu2e/data/users/sgrant/CRVSim/CosmicCRYExtractedCatTriggered.MDC2020ae_best_v1_3.000/11946817/00/00002/nts.sgrant.CosmicCRYExtractedCatTriggered.MDC2020ae_best_v1_3.001205_00000028.root', '/exp/mu2e/data/users/sgrant/CRVSim/CosmicCRYExtractedCatTriggered.MDC2020ae_best_v1_3.000/11946817/00/00007/nts.sgrant.CosmicCRYExtractedCatTriggered.MDC2020ae_best_v1_3.001205_00000053.root', '/exp/mu2e/data/users/sgrant/CRVSim/CosmicCRYExtractedCatTriggered.MDC2020ae_best_v1_3.000/11946817/00/00080/nts.sgrant.CosmicCRYExtractedCatTriggered.MDC2020ae_best_v1_3.001205_00000019.root', '/exp/mu2e/data/users/sgrant/CRVSim/CosmicCRYExtractedCatTriggered.MDC2020ae_best_v1_3.000/11946817/00/00052/nts.sgrant.CosmicCRYExtractedCatTriggered.MDC2020ae_best_v1_3.001205_00000029.root', '/exp/mu2e/data/users/sgrant/CRVSim/CosmicCRYExtractedCatTriggered.MDC2020ae_best_v1_3.000/81168767/00/00000/nts.sgrant.CosmicCRYExtractedCatTriggered.MDC2020ae_best_v1_3.001205_00000014.root']\n"
     ]
    }
   ],
   "source": [
    "# What is more interesting is those that pass the singles cut, but not the track cut.\n",
    "# Find the unique failures. Although, this will be biased a bit because sometimes the track cuts generate an exception, while the singles do not!\n",
    "# Need to ID a file where this doesn't happen. I think 00000000 is good. \n",
    "print(fileList)"
   ]
  },
  {
   "cell_type": "code",
   "execution_count": null,
   "id": "6aa558ff-ca51-4696-9f37-8649638b0198",
   "metadata": {},
   "outputs": [],
   "source": []
  }
 ],
 "metadata": {
  "kernelspec": {
   "display_name": "Mu2eEnv",
   "language": "python",
   "name": "mu2eenv"
  },
  "language_info": {
   "codemirror_mode": {
    "name": "ipython",
    "version": 3
   },
   "file_extension": ".py",
   "mimetype": "text/x-python",
   "name": "python",
   "nbconvert_exporter": "python",
   "pygments_lexer": "ipython3",
   "version": "3.10.14"
  }
 },
 "nbformat": 4,
 "nbformat_minor": 5
}
